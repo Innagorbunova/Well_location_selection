{
 "cells": [
  {
   "cell_type": "markdown",
   "metadata": {},
   "source": [
    "# Выбор локации для скважины"
   ]
  },
  {
   "cell_type": "markdown",
   "metadata": {},
   "source": [
    "## Загрузка и подготовка данных"
   ]
  },
  {
   "cell_type": "markdown",
   "metadata": {},
   "source": [
    "Целью проекта является построение модели машинного обучения для нефтедобывающей компании «ГлавРосГосНефть», которая поможет определить регион, в котором добыча нефти принесет наибольшую прибыль. Для построния модели предоставлены данные о пробах нефти в трёх регионах, в каждом из которых 10 000 месторождений, измерены качество нефти и объём её запасов.\n",
    "\n",
    "Перед началом исследования будет проведена предобработка данных после чего построена и обучена модель линейной регрессии. В ходе исследования будет рассчитан объем сырья для безубыточной разработки новой скважины, проведено сравнение со средним запасом в каждом регионе.\n",
    "\n",
    "Для расчета максимально возможной прибыли отберем скважины с максимальнымми значениями предсказаний объема сырья, в которых посчитаем общий его запас и расчитаем прибыль.\n",
    "\n",
    "В каждом регионе нйдем распределение прибыли, посчитаем среднюю прибыль, 95% доверительный интервал и риск убытков. Напишем выводы.\n",
    "\n",
    "В ходе исследования построим гистограммы, графики, для получения данных о распределении прибыли применим технику Bootstrap."
   ]
  },
  {
   "cell_type": "markdown",
   "metadata": {},
   "source": [
    "Импортируем библиотеки, необходимые для построения модели и проведения исследовательской работы."
   ]
  },
  {
   "cell_type": "code",
   "execution_count": 2,
   "metadata": {},
   "outputs": [],
   "source": [
    "import pandas as pd\n",
    "import numpy as np\n",
    "\n",
    "from sklearn.model_selection import train_test_split\n",
    "from sklearn.linear_model import LinearRegression\n",
    "from sklearn.metrics import r2_score, mean_squared_error, mean_absolute_error \n",
    "from numpy.random import RandomState\n",
    "from scipy import stats as st\n",
    "\n",
    "\n",
    "import matplotlib.pyplot as plt"
   ]
  },
  {
   "cell_type": "markdown",
   "metadata": {},
   "source": [
    "Читаем файлы \"/datasets/geo_data_0.csv.\", \"/datasets/geo_data_1.csv.\", \"/datasets/geo_data_2.csv\", сохраняем их в переменных a, b, c соотвественно."
   ]
  },
  {
   "cell_type": "code",
   "execution_count": 3,
   "metadata": {},
   "outputs": [],
   "source": [
    "a = pd.read_csv(\"C:/Users/User/Downloads/geo_data_0.csv\")\n",
    "b = pd.read_csv(\"C:/Users/User/Downloads/geo_data_1.csv\")\n",
    "c = pd.read_csv(\"C:/Users/User/Downloads/geo_data_2.csv\")"
   ]
  },
  {
   "cell_type": "markdown",
   "metadata": {},
   "source": [
    "Изучаем информацию в каждом из датасетов, включая тип данных, размер массивов, наличие пропусков и дубликатов, характеристики распределения (mean, std, median) по целевому признаку \"product\"."
   ]
  },
  {
   "cell_type": "markdown",
   "metadata": {},
   "source": [
    "#### Таблица a"
   ]
  },
  {
   "cell_type": "code",
   "execution_count": 4,
   "metadata": {},
   "outputs": [
    {
     "data": {
      "text/html": [
       "<div>\n",
       "<style scoped>\n",
       "    .dataframe tbody tr th:only-of-type {\n",
       "        vertical-align: middle;\n",
       "    }\n",
       "\n",
       "    .dataframe tbody tr th {\n",
       "        vertical-align: top;\n",
       "    }\n",
       "\n",
       "    .dataframe thead th {\n",
       "        text-align: right;\n",
       "    }\n",
       "</style>\n",
       "<table border=\"1\" class=\"dataframe\">\n",
       "  <thead>\n",
       "    <tr style=\"text-align: right;\">\n",
       "      <th></th>\n",
       "      <th>id</th>\n",
       "      <th>f0</th>\n",
       "      <th>f1</th>\n",
       "      <th>f2</th>\n",
       "      <th>product</th>\n",
       "    </tr>\n",
       "  </thead>\n",
       "  <tbody>\n",
       "    <tr>\n",
       "      <th>0</th>\n",
       "      <td>txEyH</td>\n",
       "      <td>0.705745</td>\n",
       "      <td>-0.497823</td>\n",
       "      <td>1.221170</td>\n",
       "      <td>105.280062</td>\n",
       "    </tr>\n",
       "    <tr>\n",
       "      <th>1</th>\n",
       "      <td>2acmU</td>\n",
       "      <td>1.334711</td>\n",
       "      <td>-0.340164</td>\n",
       "      <td>4.365080</td>\n",
       "      <td>73.037750</td>\n",
       "    </tr>\n",
       "    <tr>\n",
       "      <th>2</th>\n",
       "      <td>409Wp</td>\n",
       "      <td>1.022732</td>\n",
       "      <td>0.151990</td>\n",
       "      <td>1.419926</td>\n",
       "      <td>85.265647</td>\n",
       "    </tr>\n",
       "    <tr>\n",
       "      <th>3</th>\n",
       "      <td>iJLyR</td>\n",
       "      <td>-0.032172</td>\n",
       "      <td>0.139033</td>\n",
       "      <td>2.978566</td>\n",
       "      <td>168.620776</td>\n",
       "    </tr>\n",
       "    <tr>\n",
       "      <th>4</th>\n",
       "      <td>Xdl7t</td>\n",
       "      <td>1.988431</td>\n",
       "      <td>0.155413</td>\n",
       "      <td>4.751769</td>\n",
       "      <td>154.036647</td>\n",
       "    </tr>\n",
       "  </tbody>\n",
       "</table>\n",
       "</div>"
      ],
      "text/plain": [
       "      id        f0        f1        f2     product\n",
       "0  txEyH  0.705745 -0.497823  1.221170  105.280062\n",
       "1  2acmU  1.334711 -0.340164  4.365080   73.037750\n",
       "2  409Wp  1.022732  0.151990  1.419926   85.265647\n",
       "3  iJLyR -0.032172  0.139033  2.978566  168.620776\n",
       "4  Xdl7t  1.988431  0.155413  4.751769  154.036647"
      ]
     },
     "metadata": {},
     "output_type": "display_data"
    },
    {
     "name": "stdout",
     "output_type": "stream",
     "text": [
      "<class 'pandas.core.frame.DataFrame'>\n",
      "RangeIndex: 100000 entries, 0 to 99999\n",
      "Data columns (total 5 columns):\n",
      " #   Column   Non-Null Count   Dtype  \n",
      "---  ------   --------------   -----  \n",
      " 0   id       100000 non-null  object \n",
      " 1   f0       100000 non-null  float64\n",
      " 2   f1       100000 non-null  float64\n",
      " 3   f2       100000 non-null  float64\n",
      " 4   product  100000 non-null  float64\n",
      "dtypes: float64(4), object(1)\n",
      "memory usage: 3.8+ MB\n",
      "(100000, 5)\n",
      "id         0\n",
      "f0         0\n",
      "f1         0\n",
      "f2         0\n",
      "product    0\n",
      "dtype: int64\n"
     ]
    }
   ],
   "source": [
    "display(a.head())\n",
    "a.info()\n",
    "print(a.shape)\n",
    "print(a.isna().sum())"
   ]
  },
  {
   "cell_type": "code",
   "execution_count": 5,
   "metadata": {},
   "outputs": [
    {
     "data": {
      "text/plain": [
       "count    100000.000000\n",
       "mean         92.500000\n",
       "std          44.288691\n",
       "min           0.000000\n",
       "25%          56.497507\n",
       "50%          91.849972\n",
       "75%         128.564089\n",
       "max         185.364347\n",
       "Name: product, dtype: float64"
      ]
     },
     "execution_count": 5,
     "metadata": {},
     "output_type": "execute_result"
    },
    {
     "data": {
      "image/png": "[encoded data removed]",
      "text/plain": [
       "<Figure size 864x360 with 1 Axes>"
      ]
     },
     "metadata": {
      "needs_background": "light"
     },
     "output_type": "display_data"
    }
   ],
   "source": [
    "a['product'].hist(figsize=(12, 5))\n",
    "a['product'].describe()"
   ]
  },
  {
   "cell_type": "code",
   "execution_count": 6,
   "metadata": {},
   "outputs": [
    {
     "name": "stdout",
     "output_type": "stream",
     "text": [
      "В таблице 'а' установлено дубликатов: 0\n",
      "В столбце 'id' установлено дубликатов: 10\n",
      "Tdehs    2\n",
      "fiKDv    2\n",
      "TtcGQ    2\n",
      "A5aEY    2\n",
      "bxg6G    2\n",
      "Name: id, dtype: int64\n"
     ]
    }
   ],
   "source": [
    "print(\"В таблице 'а' установлено дубликатов:\", a.duplicated().sum())\n",
    "print(\"В столбце 'id' установлено дубликатов:\", a.duplicated(subset='id').sum())\n",
    "print((a['id'].value_counts()).head(5))"
   ]
  },
  {
   "cell_type": "markdown",
   "metadata": {},
   "source": [
    "#### Таблица b"
   ]
  },
  {
   "cell_type": "code",
   "execution_count": 7,
   "metadata": {},
   "outputs": [
    {
     "data": {
      "text/html": [
       "<div>\n",
       "<style scoped>\n",
       "    .dataframe tbody tr th:only-of-type {\n",
       "        vertical-align: middle;\n",
       "    }\n",
       "\n",
       "    .dataframe tbody tr th {\n",
       "        vertical-align: top;\n",
       "    }\n",
       "\n",
       "    .dataframe thead th {\n",
       "        text-align: right;\n",
       "    }\n",
       "</style>\n",
       "<table border=\"1\" class=\"dataframe\">\n",
       "  <thead>\n",
       "    <tr style=\"text-align: right;\">\n",
       "      <th></th>\n",
       "      <th>id</th>\n",
       "      <th>f0</th>\n",
       "      <th>f1</th>\n",
       "      <th>f2</th>\n",
       "      <th>product</th>\n",
       "    </tr>\n",
       "  </thead>\n",
       "  <tbody>\n",
       "    <tr>\n",
       "      <th>0</th>\n",
       "      <td>kBEdx</td>\n",
       "      <td>-15.001348</td>\n",
       "      <td>-8.276000</td>\n",
       "      <td>-0.005876</td>\n",
       "      <td>3.179103</td>\n",
       "    </tr>\n",
       "    <tr>\n",
       "      <th>1</th>\n",
       "      <td>62mP7</td>\n",
       "      <td>14.272088</td>\n",
       "      <td>-3.475083</td>\n",
       "      <td>0.999183</td>\n",
       "      <td>26.953261</td>\n",
       "    </tr>\n",
       "    <tr>\n",
       "      <th>2</th>\n",
       "      <td>vyE1P</td>\n",
       "      <td>6.263187</td>\n",
       "      <td>-5.948386</td>\n",
       "      <td>5.001160</td>\n",
       "      <td>134.766305</td>\n",
       "    </tr>\n",
       "    <tr>\n",
       "      <th>3</th>\n",
       "      <td>KcrkZ</td>\n",
       "      <td>-13.081196</td>\n",
       "      <td>-11.506057</td>\n",
       "      <td>4.999415</td>\n",
       "      <td>137.945408</td>\n",
       "    </tr>\n",
       "    <tr>\n",
       "      <th>4</th>\n",
       "      <td>AHL4O</td>\n",
       "      <td>12.702195</td>\n",
       "      <td>-8.147433</td>\n",
       "      <td>5.004363</td>\n",
       "      <td>134.766305</td>\n",
       "    </tr>\n",
       "  </tbody>\n",
       "</table>\n",
       "</div>"
      ],
      "text/plain": [
       "      id         f0         f1        f2     product\n",
       "0  kBEdx -15.001348  -8.276000 -0.005876    3.179103\n",
       "1  62mP7  14.272088  -3.475083  0.999183   26.953261\n",
       "2  vyE1P   6.263187  -5.948386  5.001160  134.766305\n",
       "3  KcrkZ -13.081196 -11.506057  4.999415  137.945408\n",
       "4  AHL4O  12.702195  -8.147433  5.004363  134.766305"
      ]
     },
     "metadata": {},
     "output_type": "display_data"
    },
    {
     "name": "stdout",
     "output_type": "stream",
     "text": [
      "<class 'pandas.core.frame.DataFrame'>\n",
      "RangeIndex: 100000 entries, 0 to 99999\n",
      "Data columns (total 5 columns):\n",
      " #   Column   Non-Null Count   Dtype  \n",
      "---  ------   --------------   -----  \n",
      " 0   id       100000 non-null  object \n",
      " 1   f0       100000 non-null  float64\n",
      " 2   f1       100000 non-null  float64\n",
      " 3   f2       100000 non-null  float64\n",
      " 4   product  100000 non-null  float64\n",
      "dtypes: float64(4), object(1)\n",
      "memory usage: 3.8+ MB\n",
      "(100000, 5)\n",
      "id         0\n",
      "f0         0\n",
      "f1         0\n",
      "f2         0\n",
      "product    0\n",
      "dtype: int64\n"
     ]
    }
   ],
   "source": [
    "display(b.head())\n",
    "b.info()\n",
    "print(b.shape)\n",
    "print(b.isna().sum())"
   ]
  },
  {
   "cell_type": "code",
   "execution_count": 8,
   "metadata": {},
   "outputs": [
    {
     "data": {
      "text/plain": [
       "count    100000.000000\n",
       "mean         68.825000\n",
       "std          45.944423\n",
       "min           0.000000\n",
       "25%          26.953261\n",
       "50%          57.085625\n",
       "75%         107.813044\n",
       "max         137.945408\n",
       "Name: product, dtype: float64"
      ]
     },
     "execution_count": 8,
     "metadata": {},
     "output_type": "execute_result"
    },
    {
     "data": {
      "image/png": "[encoded data removed]",
      "text/plain": [
       "<Figure size 864x360 with 1 Axes>"
      ]
     },
     "metadata": {
      "needs_background": "light"
     },
     "output_type": "display_data"
    }
   ],
   "source": [
    "b['product'].hist(figsize=(12, 5))\n",
    "b['product'].describe()"
   ]
  },
  {
   "cell_type": "code",
   "execution_count": 9,
   "metadata": {},
   "outputs": [
    {
     "name": "stdout",
     "output_type": "stream",
     "text": [
      "В таблице 'b' установлено дубликатов: 0\n",
      "В столбце 'id' установлено дубликатов: 4\n",
      "wt4Uk    2\n",
      "5ltQ6    2\n",
      "LHZR0    2\n",
      "bfPNe    2\n",
      "Name: id, dtype: int64\n"
     ]
    }
   ],
   "source": [
    "print(\"В таблице 'b' установлено дубликатов:\", b.duplicated().sum())\n",
    "print(\"В столбце 'id' установлено дубликатов:\", b.duplicated(subset='id').sum())\n",
    "print((b['id'].value_counts()).head(4))"
   ]
  },
  {
   "cell_type": "markdown",
   "metadata": {},
   "source": [
    "#### Таблица c "
   ]
  },
  {
   "cell_type": "code",
   "execution_count": 10,
   "metadata": {},
   "outputs": [
    {
     "data": {
      "text/html": [
       "<div>\n",
       "<style scoped>\n",
       "    .dataframe tbody tr th:only-of-type {\n",
       "        vertical-align: middle;\n",
       "    }\n",
       "\n",
       "    .dataframe tbody tr th {\n",
       "        vertical-align: top;\n",
       "    }\n",
       "\n",
       "    .dataframe thead th {\n",
       "        text-align: right;\n",
       "    }\n",
       "</style>\n",
       "<table border=\"1\" class=\"dataframe\">\n",
       "  <thead>\n",
       "    <tr style=\"text-align: right;\">\n",
       "      <th></th>\n",
       "      <th>id</th>\n",
       "      <th>f0</th>\n",
       "      <th>f1</th>\n",
       "      <th>f2</th>\n",
       "      <th>product</th>\n",
       "    </tr>\n",
       "  </thead>\n",
       "  <tbody>\n",
       "    <tr>\n",
       "      <th>0</th>\n",
       "      <td>fwXo0</td>\n",
       "      <td>-1.146987</td>\n",
       "      <td>0.963328</td>\n",
       "      <td>-0.828965</td>\n",
       "      <td>27.758673</td>\n",
       "    </tr>\n",
       "    <tr>\n",
       "      <th>1</th>\n",
       "      <td>WJtFt</td>\n",
       "      <td>0.262778</td>\n",
       "      <td>0.269839</td>\n",
       "      <td>-2.530187</td>\n",
       "      <td>56.069697</td>\n",
       "    </tr>\n",
       "    <tr>\n",
       "      <th>2</th>\n",
       "      <td>ovLUW</td>\n",
       "      <td>0.194587</td>\n",
       "      <td>0.289035</td>\n",
       "      <td>-5.586433</td>\n",
       "      <td>62.871910</td>\n",
       "    </tr>\n",
       "    <tr>\n",
       "      <th>3</th>\n",
       "      <td>q6cA6</td>\n",
       "      <td>2.236060</td>\n",
       "      <td>-0.553760</td>\n",
       "      <td>0.930038</td>\n",
       "      <td>114.572842</td>\n",
       "    </tr>\n",
       "    <tr>\n",
       "      <th>4</th>\n",
       "      <td>WPMUX</td>\n",
       "      <td>-0.515993</td>\n",
       "      <td>1.716266</td>\n",
       "      <td>5.899011</td>\n",
       "      <td>149.600746</td>\n",
       "    </tr>\n",
       "  </tbody>\n",
       "</table>\n",
       "</div>"
      ],
      "text/plain": [
       "      id        f0        f1        f2     product\n",
       "0  fwXo0 -1.146987  0.963328 -0.828965   27.758673\n",
       "1  WJtFt  0.262778  0.269839 -2.530187   56.069697\n",
       "2  ovLUW  0.194587  0.289035 -5.586433   62.871910\n",
       "3  q6cA6  2.236060 -0.553760  0.930038  114.572842\n",
       "4  WPMUX -0.515993  1.716266  5.899011  149.600746"
      ]
     },
     "metadata": {},
     "output_type": "display_data"
    },
    {
     "name": "stdout",
     "output_type": "stream",
     "text": [
      "<class 'pandas.core.frame.DataFrame'>\n",
      "RangeIndex: 100000 entries, 0 to 99999\n",
      "Data columns (total 5 columns):\n",
      " #   Column   Non-Null Count   Dtype  \n",
      "---  ------   --------------   -----  \n",
      " 0   id       100000 non-null  object \n",
      " 1   f0       100000 non-null  float64\n",
      " 2   f1       100000 non-null  float64\n",
      " 3   f2       100000 non-null  float64\n",
      " 4   product  100000 non-null  float64\n",
      "dtypes: float64(4), object(1)\n",
      "memory usage: 3.8+ MB\n",
      "(100000, 5)\n",
      "id         0\n",
      "f0         0\n",
      "f1         0\n",
      "f2         0\n",
      "product    0\n",
      "dtype: int64\n"
     ]
    }
   ],
   "source": [
    "display(c.head())\n",
    "c.info()\n",
    "print(c.shape)\n",
    "print(c.isna().sum())"
   ]
  },
  {
   "cell_type": "code",
   "execution_count": 11,
   "metadata": {},
   "outputs": [
    {
     "data": {
      "text/plain": [
       "count    100000.000000\n",
       "mean         95.000000\n",
       "std          44.749921\n",
       "min           0.000000\n",
       "25%          59.450441\n",
       "50%          94.925613\n",
       "75%         130.595027\n",
       "max         190.029838\n",
       "Name: product, dtype: float64"
      ]
     },
     "execution_count": 11,
     "metadata": {},
     "output_type": "execute_result"
    },
    {
     "data": {
      "image/png": "[encoded data removed]",
      "text/plain": [
       "<Figure size 864x360 with 1 Axes>"
      ]
     },
     "metadata": {
      "needs_background": "light"
     },
     "output_type": "display_data"
    }
   ],
   "source": [
    "c['product'].hist(figsize=(12, 5))\n",
    "c['product'].describe()"
   ]
  },
  {
   "cell_type": "code",
   "execution_count": 12,
   "metadata": {},
   "outputs": [
    {
     "name": "stdout",
     "output_type": "stream",
     "text": [
      "В таблице 'c' установлено дубликатов: 0\n",
      "В столбце 'id' установлено дубликатов: 4\n",
      "VF7Jo    2\n",
      "KUPhW    2\n",
      "Vcm5J    2\n",
      "xCHr8    2\n",
      "Name: id, dtype: int64\n"
     ]
    }
   ],
   "source": [
    "print(\"В таблице 'c' установлено дубликатов:\", c.duplicated().sum())\n",
    "print(\"В столбце 'id' установлено дубликатов:\", c.duplicated(subset='id').sum())\n",
    "print((c['id'].value_counts()).head(4))"
   ]
  },
  {
   "cell_type": "markdown",
   "metadata": {},
   "source": [
    "#### Вывод:"
   ]
  },
  {
   "cell_type": "markdown",
   "metadata": {},
   "source": [
    " В нашем распоряжении три датасета с информацией об объемах и заданных характеристиках нефти по трем регионам. В каждом из датасетов по 100000 объектов.\n",
    "Данные признаков, помимо столбца \"id\", представлены типом float64.\n",
    "\n",
    "Пропуски отсутствуют.\n",
    "\n",
    "В целом по датафреймам полные дубликаты объектов отсутствуют, однако по столбцу \"id\" во всех таблицах имеются дубликаты. Кроме того, данный признак является фиктивным, то есть не имеющим информативного значения для построения будущей модели.\n",
    "\n",
    "Гистограммы распределения свидетельствуют о том, что в регионах a и c распределение значений целевого признака близко к нормальному. В регионе b с максимальной частотой встречаются скважины, имеющие запас сырья далеко за пределами первой и третьей квартилей, что дает основание с повышенным вниманием относится к вопросу о возможной его разработке."
   ]
  },
  {
   "cell_type": "markdown",
   "metadata": {},
   "source": [
    "### Подготовка данных"
   ]
  },
  {
   "cell_type": "markdown",
   "metadata": {},
   "source": [
    "В ходе подготовки данных мы удалим единичные строки с дубликатами по столбцу \"id\", который также удалим, как являющийся фиктивным для будущей модели машинного обучения признаком."
   ]
  },
  {
   "cell_type": "markdown",
   "metadata": {},
   "source": [
    "#### Удаляем дубликаты"
   ]
  },
  {
   "cell_type": "code",
   "execution_count": 13,
   "metadata": {},
   "outputs": [
    {
     "name": "stdout",
     "output_type": "stream",
     "text": [
      "В столбце 'id'  таблицы 'a' установлено дубликатов: 0\n",
      "В столбце 'id'  таблицы 'b' установлено дубликатов: 0\n",
      "В столбце 'id'  таблицы 'c' установлено дубликатов: 0\n"
     ]
    }
   ],
   "source": [
    "a = a.drop_duplicates(subset='id', keep=False)\n",
    "print(\"В столбце 'id'  таблицы 'a' установлено дубликатов:\", a.duplicated(subset='id').sum())\n",
    "b = b.drop_duplicates(subset='id', keep=False)\n",
    "print(\"В столбце 'id'  таблицы 'b' установлено дубликатов:\", b.duplicated(subset='id').sum())\n",
    "c = c.drop_duplicates(subset='id', keep=False)\n",
    "print(\"В столбце 'id'  таблицы 'c' установлено дубликатов:\", c.duplicated(subset='id').sum())"
   ]
  },
  {
   "cell_type": "markdown",
   "metadata": {},
   "source": [
    "#### Удаляем фиктивный признак 'id' "
   ]
  },
  {
   "cell_type": "code",
   "execution_count": 14,
   "metadata": {},
   "outputs": [
    {
     "name": "stdout",
     "output_type": "stream",
     "text": [
      "<class 'pandas.core.frame.DataFrame'>\n",
      "Int64Index: 99980 entries, 0 to 99999\n",
      "Data columns (total 4 columns):\n",
      " #   Column   Non-Null Count  Dtype  \n",
      "---  ------   --------------  -----  \n",
      " 0   f0       99980 non-null  float64\n",
      " 1   f1       99980 non-null  float64\n",
      " 2   f2       99980 non-null  float64\n",
      " 3   product  99980 non-null  float64\n",
      "dtypes: float64(4)\n",
      "memory usage: 3.8 MB\n"
     ]
    },
    {
     "data": {
      "text/html": [
       "<div>\n",
       "<style scoped>\n",
       "    .dataframe tbody tr th:only-of-type {\n",
       "        vertical-align: middle;\n",
       "    }\n",
       "\n",
       "    .dataframe tbody tr th {\n",
       "        vertical-align: top;\n",
       "    }\n",
       "\n",
       "    .dataframe thead th {\n",
       "        text-align: right;\n",
       "    }\n",
       "</style>\n",
       "<table border=\"1\" class=\"dataframe\">\n",
       "  <thead>\n",
       "    <tr style=\"text-align: right;\">\n",
       "      <th></th>\n",
       "      <th>f0</th>\n",
       "      <th>f1</th>\n",
       "      <th>f2</th>\n",
       "      <th>product</th>\n",
       "    </tr>\n",
       "  </thead>\n",
       "  <tbody>\n",
       "    <tr>\n",
       "      <th>0</th>\n",
       "      <td>0.705745</td>\n",
       "      <td>-0.497823</td>\n",
       "      <td>1.221170</td>\n",
       "      <td>105.280062</td>\n",
       "    </tr>\n",
       "    <tr>\n",
       "      <th>1</th>\n",
       "      <td>1.334711</td>\n",
       "      <td>-0.340164</td>\n",
       "      <td>4.365080</td>\n",
       "      <td>73.037750</td>\n",
       "    </tr>\n",
       "    <tr>\n",
       "      <th>2</th>\n",
       "      <td>1.022732</td>\n",
       "      <td>0.151990</td>\n",
       "      <td>1.419926</td>\n",
       "      <td>85.265647</td>\n",
       "    </tr>\n",
       "    <tr>\n",
       "      <th>3</th>\n",
       "      <td>-0.032172</td>\n",
       "      <td>0.139033</td>\n",
       "      <td>2.978566</td>\n",
       "      <td>168.620776</td>\n",
       "    </tr>\n",
       "    <tr>\n",
       "      <th>4</th>\n",
       "      <td>1.988431</td>\n",
       "      <td>0.155413</td>\n",
       "      <td>4.751769</td>\n",
       "      <td>154.036647</td>\n",
       "    </tr>\n",
       "  </tbody>\n",
       "</table>\n",
       "</div>"
      ],
      "text/plain": [
       "         f0        f1        f2     product\n",
       "0  0.705745 -0.497823  1.221170  105.280062\n",
       "1  1.334711 -0.340164  4.365080   73.037750\n",
       "2  1.022732  0.151990  1.419926   85.265647\n",
       "3 -0.032172  0.139033  2.978566  168.620776\n",
       "4  1.988431  0.155413  4.751769  154.036647"
      ]
     },
     "metadata": {},
     "output_type": "display_data"
    }
   ],
   "source": [
    "a = a.drop('id', axis=1)\n",
    "a.info()\n",
    "display(a.head(5)) "
   ]
  },
  {
   "cell_type": "code",
   "execution_count": 15,
   "metadata": {},
   "outputs": [
    {
     "name": "stdout",
     "output_type": "stream",
     "text": [
      "<class 'pandas.core.frame.DataFrame'>\n",
      "Int64Index: 99992 entries, 0 to 99999\n",
      "Data columns (total 4 columns):\n",
      " #   Column   Non-Null Count  Dtype  \n",
      "---  ------   --------------  -----  \n",
      " 0   f0       99992 non-null  float64\n",
      " 1   f1       99992 non-null  float64\n",
      " 2   f2       99992 non-null  float64\n",
      " 3   product  99992 non-null  float64\n",
      "dtypes: float64(4)\n",
      "memory usage: 3.8 MB\n"
     ]
    },
    {
     "data": {
      "text/html": [
       "<div>\n",
       "<style scoped>\n",
       "    .dataframe tbody tr th:only-of-type {\n",
       "        vertical-align: middle;\n",
       "    }\n",
       "\n",
       "    .dataframe tbody tr th {\n",
       "        vertical-align: top;\n",
       "    }\n",
       "\n",
       "    .dataframe thead th {\n",
       "        text-align: right;\n",
       "    }\n",
       "</style>\n",
       "<table border=\"1\" class=\"dataframe\">\n",
       "  <thead>\n",
       "    <tr style=\"text-align: right;\">\n",
       "      <th></th>\n",
       "      <th>f0</th>\n",
       "      <th>f1</th>\n",
       "      <th>f2</th>\n",
       "      <th>product</th>\n",
       "    </tr>\n",
       "  </thead>\n",
       "  <tbody>\n",
       "    <tr>\n",
       "      <th>0</th>\n",
       "      <td>-15.001348</td>\n",
       "      <td>-8.276000</td>\n",
       "      <td>-0.005876</td>\n",
       "      <td>3.179103</td>\n",
       "    </tr>\n",
       "    <tr>\n",
       "      <th>1</th>\n",
       "      <td>14.272088</td>\n",
       "      <td>-3.475083</td>\n",
       "      <td>0.999183</td>\n",
       "      <td>26.953261</td>\n",
       "    </tr>\n",
       "    <tr>\n",
       "      <th>2</th>\n",
       "      <td>6.263187</td>\n",
       "      <td>-5.948386</td>\n",
       "      <td>5.001160</td>\n",
       "      <td>134.766305</td>\n",
       "    </tr>\n",
       "    <tr>\n",
       "      <th>3</th>\n",
       "      <td>-13.081196</td>\n",
       "      <td>-11.506057</td>\n",
       "      <td>4.999415</td>\n",
       "      <td>137.945408</td>\n",
       "    </tr>\n",
       "    <tr>\n",
       "      <th>4</th>\n",
       "      <td>12.702195</td>\n",
       "      <td>-8.147433</td>\n",
       "      <td>5.004363</td>\n",
       "      <td>134.766305</td>\n",
       "    </tr>\n",
       "  </tbody>\n",
       "</table>\n",
       "</div>"
      ],
      "text/plain": [
       "          f0         f1        f2     product\n",
       "0 -15.001348  -8.276000 -0.005876    3.179103\n",
       "1  14.272088  -3.475083  0.999183   26.953261\n",
       "2   6.263187  -5.948386  5.001160  134.766305\n",
       "3 -13.081196 -11.506057  4.999415  137.945408\n",
       "4  12.702195  -8.147433  5.004363  134.766305"
      ]
     },
     "metadata": {},
     "output_type": "display_data"
    }
   ],
   "source": [
    "b = b.drop('id', axis=1)\n",
    "b.info()\n",
    "display(b.head(5)) "
   ]
  },
  {
   "cell_type": "code",
   "execution_count": 16,
   "metadata": {},
   "outputs": [
    {
     "name": "stdout",
     "output_type": "stream",
     "text": [
      "<class 'pandas.core.frame.DataFrame'>\n",
      "Int64Index: 99992 entries, 0 to 99999\n",
      "Data columns (total 4 columns):\n",
      " #   Column   Non-Null Count  Dtype  \n",
      "---  ------   --------------  -----  \n",
      " 0   f0       99992 non-null  float64\n",
      " 1   f1       99992 non-null  float64\n",
      " 2   f2       99992 non-null  float64\n",
      " 3   product  99992 non-null  float64\n",
      "dtypes: float64(4)\n",
      "memory usage: 3.8 MB\n"
     ]
    },
    {
     "data": {
      "text/html": [
       "<div>\n",
       "<style scoped>\n",
       "    .dataframe tbody tr th:only-of-type {\n",
       "        vertical-align: middle;\n",
       "    }\n",
       "\n",
       "    .dataframe tbody tr th {\n",
       "        vertical-align: top;\n",
       "    }\n",
       "\n",
       "    .dataframe thead th {\n",
       "        text-align: right;\n",
       "    }\n",
       "</style>\n",
       "<table border=\"1\" class=\"dataframe\">\n",
       "  <thead>\n",
       "    <tr style=\"text-align: right;\">\n",
       "      <th></th>\n",
       "      <th>f0</th>\n",
       "      <th>f1</th>\n",
       "      <th>f2</th>\n",
       "      <th>product</th>\n",
       "    </tr>\n",
       "  </thead>\n",
       "  <tbody>\n",
       "    <tr>\n",
       "      <th>0</th>\n",
       "      <td>-1.146987</td>\n",
       "      <td>0.963328</td>\n",
       "      <td>-0.828965</td>\n",
       "      <td>27.758673</td>\n",
       "    </tr>\n",
       "    <tr>\n",
       "      <th>1</th>\n",
       "      <td>0.262778</td>\n",
       "      <td>0.269839</td>\n",
       "      <td>-2.530187</td>\n",
       "      <td>56.069697</td>\n",
       "    </tr>\n",
       "    <tr>\n",
       "      <th>2</th>\n",
       "      <td>0.194587</td>\n",
       "      <td>0.289035</td>\n",
       "      <td>-5.586433</td>\n",
       "      <td>62.871910</td>\n",
       "    </tr>\n",
       "    <tr>\n",
       "      <th>3</th>\n",
       "      <td>2.236060</td>\n",
       "      <td>-0.553760</td>\n",
       "      <td>0.930038</td>\n",
       "      <td>114.572842</td>\n",
       "    </tr>\n",
       "    <tr>\n",
       "      <th>4</th>\n",
       "      <td>-0.515993</td>\n",
       "      <td>1.716266</td>\n",
       "      <td>5.899011</td>\n",
       "      <td>149.600746</td>\n",
       "    </tr>\n",
       "  </tbody>\n",
       "</table>\n",
       "</div>"
      ],
      "text/plain": [
       "         f0        f1        f2     product\n",
       "0 -1.146987  0.963328 -0.828965   27.758673\n",
       "1  0.262778  0.269839 -2.530187   56.069697\n",
       "2  0.194587  0.289035 -5.586433   62.871910\n",
       "3  2.236060 -0.553760  0.930038  114.572842\n",
       "4 -0.515993  1.716266  5.899011  149.600746"
      ]
     },
     "metadata": {},
     "output_type": "display_data"
    }
   ],
   "source": [
    "c = c.drop('id', axis=1)\n",
    "c.info()\n",
    "display(c.head(5)) "
   ]
  },
  {
   "cell_type": "markdown",
   "metadata": {},
   "source": [
    "#### Вывод"
   ]
  },
  {
   "cell_type": "markdown",
   "metadata": {},
   "source": [
    " В ходе подготовки данных во всех датасетах мы удалили строки с дубликатами по столбцу \"id\" после чего удалили этот столбец, как фиктивный признак."
   ]
  },
  {
   "cell_type": "markdown",
   "metadata": {},
   "source": [
    "## Обучение и проверка модели"
   ]
  },
  {
   "cell_type": "markdown",
   "metadata": {},
   "source": [
    "Для предсказаний объемов сырья по каждому региону построим модель машинного обучения \"Линейная регрессия\" для которой у нас уже импоритрована структура linear_model LinearRegression библиотеки sklearn.\n",
    "\n",
    "В соотвествии с условиями пректа разделим данные на обучающую и вилидационную выборки в соотношении 75:25. Обучим модели на учебных выборках и сделаем предсказания на валидационных.\n",
    "\n",
    "Для анализа предсказаний, метрик MSE, RMSE и R2 построенных моделей сохраним их списками в отдельных переменных, на основе которых создадим датафрейм."
   ]
  },
  {
   "cell_type": "markdown",
   "metadata": {},
   "source": [
    "### Делим данные на обучающую и валидационную выборки в соотношении 75:25."
   ]
  },
  {
   "cell_type": "markdown",
   "metadata": {},
   "source": [
    "#### Таблица a"
   ]
  },
  {
   "cell_type": "code",
   "execution_count": 17,
   "metadata": {},
   "outputs": [
    {
     "name": "stdout",
     "output_type": "stream",
     "text": [
      "(99980,)\n",
      "(99980, 3)\n",
      "(74985,)\n",
      "(74985, 3)\n",
      "(24995,)\n",
      "(24995, 3)\n"
     ]
    }
   ],
   "source": [
    "state = RandomState(12345)\n",
    "\n",
    "target_a = a['product']\n",
    "features_a = a.drop(['product'] , axis=1)\n",
    "a_features_train, a_features_valid, a_target_train, a_target_valid = train_test_split(\n",
    "    features_a, target_a, test_size=0.25, random_state=state)\n",
    "\n",
    "print(target_a.shape)\n",
    "print(features_a.shape)\n",
    "print(a_target_train.shape)\n",
    "print(a_features_train.shape)\n",
    "print(a_target_valid.shape)\n",
    "print(a_features_valid.shape)"
   ]
  },
  {
   "cell_type": "markdown",
   "metadata": {},
   "source": [
    "Правильные ответы на валидационной выборке сохранены в переменной a_target_valid"
   ]
  },
  {
   "cell_type": "code",
   "execution_count": 18,
   "metadata": {},
   "outputs": [
    {
     "name": "stdout",
     "output_type": "stream",
     "text": [
      "6169      61.171722\n",
      "29916     94.192535\n",
      "49569    137.742601\n",
      "Name: product, dtype: float64\n",
      "\n"
     ]
    }
   ],
   "source": [
    "print(a_target_valid.head(3))\n",
    "print(\"\")"
   ]
  },
  {
   "cell_type": "markdown",
   "metadata": {},
   "source": [
    "#### Таблица b"
   ]
  },
  {
   "cell_type": "code",
   "execution_count": 19,
   "metadata": {},
   "outputs": [
    {
     "name": "stdout",
     "output_type": "stream",
     "text": [
      "(99992,)\n",
      "(99992, 3)\n",
      "(74994,)\n",
      "(74994, 3)\n",
      "(24998,)\n",
      "(24998, 3)\n"
     ]
    }
   ],
   "source": [
    "state = RandomState(12345)\n",
    "\n",
    "target_b = b['product']\n",
    "features_b = b.drop(['product'] , axis=1)\n",
    "b_features_train, b_features_valid, b_target_train, b_target_valid = train_test_split(\n",
    "    features_b, target_b, test_size=0.25, random_state=state)\n",
    "\n",
    "print(target_b.shape)\n",
    "print(features_b.shape)\n",
    "print(b_target_train.shape)\n",
    "print(b_features_train.shape)\n",
    "print(b_target_valid.shape)\n",
    "print(b_features_valid.shape)"
   ]
  },
  {
   "cell_type": "markdown",
   "metadata": {},
   "source": [
    "Правильные ответы на валидационной выборке сохранены в переменной b_target_valid"
   ]
  },
  {
   "cell_type": "code",
   "execution_count": 20,
   "metadata": {},
   "outputs": [
    {
     "name": "stdout",
     "output_type": "stream",
     "text": [
      "20914    57.085625\n",
      "65272    57.085625\n",
      "16622    53.906522\n",
      "Name: product, dtype: float64\n",
      "\n"
     ]
    }
   ],
   "source": [
    "print(b_target_valid.head(3))\n",
    "print(\"\")"
   ]
  },
  {
   "cell_type": "markdown",
   "metadata": {},
   "source": [
    "#### Таблица c"
   ]
  },
  {
   "cell_type": "code",
   "execution_count": 21,
   "metadata": {},
   "outputs": [
    {
     "name": "stdout",
     "output_type": "stream",
     "text": [
      "(99992,)\n",
      "(99992, 3)\n",
      "(74994,)\n",
      "(74994, 3)\n",
      "(24998,)\n",
      "(24998, 3)\n"
     ]
    }
   ],
   "source": [
    "state = RandomState(12345)\n",
    "\n",
    "target_c = c['product']\n",
    "features_c = c.drop(['product'] , axis=1)\n",
    "c_features_train, c_features_valid, c_target_train, c_target_valid = train_test_split(\n",
    "    features_c, target_c, test_size=0.25, random_state=state)\n",
    "\n",
    "print(target_c.shape)\n",
    "print(features_c.shape)\n",
    "print(c_target_train.shape)\n",
    "print(c_features_train.shape)\n",
    "print(c_target_valid.shape)\n",
    "print(c_features_valid.shape)"
   ]
  },
  {
   "cell_type": "markdown",
   "metadata": {},
   "source": [
    "Правильные ответы на валидационной выборке сохранены в переменной c_target_valid"
   ]
  },
  {
   "cell_type": "code",
   "execution_count": 22,
   "metadata": {},
   "outputs": [
    {
     "name": "stdout",
     "output_type": "stream",
     "text": [
      "20912    37.147754\n",
      "65274    55.498481\n",
      "16620    60.024016\n",
      "Name: product, dtype: float64\n",
      "\n"
     ]
    }
   ],
   "source": [
    "print(c_target_valid.head(3))\n",
    "print(\"\")"
   ]
  },
  {
   "cell_type": "markdown",
   "metadata": {},
   "source": [
    "### Строим и обучаем модели \"Линейная регрессия\""
   ]
  },
  {
   "cell_type": "markdown",
   "metadata": {},
   "source": [
    "Модель для региона a сохраним в переменной model_a, предсказания на валидационной выборке - в переменной a_predicted_valid, метрики MSE - в a_mse, RMSE - в a_rmse"
   ]
  },
  {
   "cell_type": "code",
   "execution_count": 23,
   "metadata": {},
   "outputs": [
    {
     "name": "stdout",
     "output_type": "stream",
     "text": [
      "Средний запас предсказанного сырья составляет 92.42 тыс.баррелей\n",
      "Linear Regression model_a\n",
      "MSE = 1422.5649197905439\n",
      "RMSE = 37.716904960382735\n",
      "R2 = 0.2766598499599884\n",
      "92.42\n",
      "['model_a', 1422.56, 37.72, 0.28, 92.42]\n",
      "\n"
     ]
    }
   ],
   "source": [
    "model_a = LinearRegression()\n",
    "model_a.fit(a_features_train, a_target_train)\n",
    "a_predicted_valid = model_a.predict(a_features_valid)\n",
    "\n",
    "a_mse = mean_squared_error(a_target_valid, a_predicted_valid)\n",
    "\n",
    "a_rmse = a_mse ** 0.5\n",
    "\n",
    "print(\"Средний запас предсказанного сырья составляет\", round((a_predicted_valid.mean()),2), \"тыс.баррелей\")\n",
    "print(\"Linear Regression model_a\")\n",
    "print(\"MSE =\", a_mse)\n",
    "print(\"RMSE =\", a_rmse)\n",
    "print(\"R2 =\", r2_score(a_target_valid, a_predicted_valid))\n",
    "a_mean = round((a_predicted_valid.mean()),2)\n",
    "print(a_mean)\n",
    "\n",
    "k = ['model_a',round((a_mse),2)\n",
    "     ,round((a_rmse),2)\n",
    "     ,round((r2_score(a_target_valid, a_predicted_valid)),2)\n",
    "    ,round((a_predicted_valid.mean()),2)]\n",
    "print(k)\n",
    "print(\"\")"
   ]
  },
  {
   "cell_type": "markdown",
   "metadata": {},
   "source": [
    "Модель для региона b сохраним в переменной model_b, предсказания на валидационной выборке - в переменной b_predicted_valid, метрики MSE - в b_mse, RMSE - в b_rmse"
   ]
  },
  {
   "cell_type": "code",
   "execution_count": 24,
   "metadata": {},
   "outputs": [
    {
     "name": "stdout",
     "output_type": "stream",
     "text": [
      "Средний запас предсказанного сырья составляет 68.98 тыс.баррелей\n",
      "Linear Regression model_b\n",
      "MSE = 0.7947546679963835\n",
      "RMSE = 0.8914901390348541\n",
      "R2 = 0.9996239095602003\n",
      "68.98\n",
      "['model_b', 0.79, 0.89, 1.0, 68.98]\n",
      "\n"
     ]
    }
   ],
   "source": [
    "model_b = LinearRegression()\n",
    "model_b.fit(b_features_train, b_target_train)\n",
    "b_predicted_valid = model_b.predict(b_features_valid)\n",
    "\n",
    "b_mse = mean_squared_error(b_target_valid, b_predicted_valid)\n",
    "\n",
    "b_rmse = b_mse ** 0.5\n",
    "\n",
    "print(\"Средний запас предсказанного сырья составляет\", round((b_predicted_valid.mean()),2), \"тыс.баррелей\")\n",
    "print(\"Linear Regression model_b\")\n",
    "print(\"MSE =\", b_mse)\n",
    "print(\"RMSE =\", b_rmse)\n",
    "print(\"R2 =\", r2_score(b_target_valid, b_predicted_valid))\n",
    "b_mean = round((b_predicted_valid.mean()),2)\n",
    "print(b_mean)\n",
    "\n",
    "l = ['model_b',round((b_mse),2)\n",
    "     ,round((b_mse ** 0.5),2)\n",
    "     ,round((r2_score(b_target_valid, b_predicted_valid)),2)\n",
    "    ,round((b_predicted_valid.mean()),2)]\n",
    "print(l)\n",
    "print(\"\")"
   ]
  },
  {
   "cell_type": "markdown",
   "metadata": {},
   "source": [
    "Модель для региона c сохраним в переменной model_c, предсказания на валидационной выборке - в переменной c_predicted_valid, метрики MSE - в c_mse, RMSE - в c_rmse"
   ]
  },
  {
   "cell_type": "code",
   "execution_count": 25,
   "metadata": {},
   "outputs": [
    {
     "name": "stdout",
     "output_type": "stream",
     "text": [
      "Средний запас предсказанного сырья составляет 95.12 тыс.баррелей\n",
      "Linear Regression model_c\n",
      "MSE = 1598.0440592825046\n",
      "RMSE = 39.975543264382345\n",
      "R2 = 0.19558409993606407\n",
      "95.12\n",
      "['model_c', 1598.04, 39.98, 0.2, 95.12]\n",
      "\n"
     ]
    }
   ],
   "source": [
    "model_c = LinearRegression()\n",
    "model_c.fit(c_features_train, c_target_train)\n",
    "c_predicted_valid = model_c.predict(c_features_valid)\n",
    "\n",
    "c_mse = mean_squared_error(c_target_valid, c_predicted_valid)\n",
    "\n",
    "c_rmse = c_mse ** 0.5\n",
    "\n",
    "print(\"Средний запас предсказанного сырья составляет\", round((c_predicted_valid.mean()),2), \"тыс.баррелей\")\n",
    "c_mean = round((c_predicted_valid.mean()),2)\n",
    "print(\"Linear Regression model_c\")\n",
    "print(\"MSE =\", c_mse)\n",
    "print(\"RMSE =\",c_rmse)\n",
    "print(\"R2 =\", r2_score(c_target_valid, c_predicted_valid))\n",
    "c_mean = round((c_predicted_valid.mean()),2)\n",
    "print(c_mean)\n",
    "\n",
    "m = ['model_c',round((c_mse),2)\n",
    "     ,round((c_rmse),2)\n",
    "     ,round((r2_score(c_target_valid, c_predicted_valid)),2)\n",
    "    ,round((c_predicted_valid.mean()),2)]\n",
    "print(m)\n",
    "print(\"\")"
   ]
  },
  {
   "cell_type": "markdown",
   "metadata": {},
   "source": [
    "Для наглядности и анализа метрик качества моделей, построенных по данным трех регионов, предсказанных средних запасов сырья построим датафрейм. Метрики MSE RMSE R2 и данные о средних объемах сырья мы сохраняли в переменных."
   ]
  },
  {
   "cell_type": "code",
   "execution_count": 26,
   "metadata": {},
   "outputs": [
    {
     "data": {
      "text/html": [
       "<div>\n",
       "<style scoped>\n",
       "    .dataframe tbody tr th:only-of-type {\n",
       "        vertical-align: middle;\n",
       "    }\n",
       "\n",
       "    .dataframe tbody tr th {\n",
       "        vertical-align: top;\n",
       "    }\n",
       "\n",
       "    .dataframe thead th {\n",
       "        text-align: right;\n",
       "    }\n",
       "</style>\n",
       "<table border=\"1\" class=\"dataframe\">\n",
       "  <thead>\n",
       "    <tr style=\"text-align: right;\">\n",
       "      <th></th>\n",
       "      <th>model</th>\n",
       "      <th>MSE</th>\n",
       "      <th>RMSE</th>\n",
       "      <th>R2</th>\n",
       "      <th>mean_stuff</th>\n",
       "    </tr>\n",
       "  </thead>\n",
       "  <tbody>\n",
       "    <tr>\n",
       "      <th>0</th>\n",
       "      <td>model_a</td>\n",
       "      <td>1422.56</td>\n",
       "      <td>37.72</td>\n",
       "      <td>0.28</td>\n",
       "      <td>92.42</td>\n",
       "    </tr>\n",
       "    <tr>\n",
       "      <th>1</th>\n",
       "      <td>model_b</td>\n",
       "      <td>0.79</td>\n",
       "      <td>0.89</td>\n",
       "      <td>1.00</td>\n",
       "      <td>68.98</td>\n",
       "    </tr>\n",
       "    <tr>\n",
       "      <th>2</th>\n",
       "      <td>model_c</td>\n",
       "      <td>1598.04</td>\n",
       "      <td>39.98</td>\n",
       "      <td>0.20</td>\n",
       "      <td>95.12</td>\n",
       "    </tr>\n",
       "  </tbody>\n",
       "</table>\n",
       "</div>"
      ],
      "text/plain": [
       "     model      MSE   RMSE    R2  mean_stuff\n",
       "0  model_a  1422.56  37.72  0.28       92.42\n",
       "1  model_b     0.79   0.89  1.00       68.98\n",
       "2  model_c  1598.04  39.98  0.20       95.12"
      ]
     },
     "metadata": {},
     "output_type": "display_data"
    },
    {
     "name": "stdout",
     "output_type": "stream",
     "text": [
      "\n",
      "Наибольшие показатели среднего объема сырья согласно предсказаниям у модели:\n",
      "     model      MSE   RMSE   R2  mean_stuff\n",
      "2  model_c  1598.04  39.98  0.2       95.12\n"
     ]
    }
   ],
   "source": [
    "n = pd.DataFrame(data = [k, l, m],columns = ['model', 'MSE','RMSE', 'R2', 'mean_stuff'])\n",
    "display(n)\n",
    "print(\"\")\n",
    "print(\"Наибольшие показатели среднего объема сырья согласно предсказаниям у модели:\")\n",
    "print(n.query('mean_stuff == mean_stuff.max()'))"
   ]
  },
  {
   "cell_type": "markdown",
   "metadata": {},
   "source": [
    "#### Вывод"
   ]
  },
  {
   "cell_type": "markdown",
   "metadata": {},
   "source": [
    " Для трех регионов мы построили модели машинного обучения model_a, model_b и model_c для которых рассчитали метрики качества MSE RMSE и R2.\n",
    "    \n",
    "Седнеквадратичная ошибка прогнозов наших моделей (квадратная разница между прогнозами и целью) - MSE, а также метрика RMSE, показывающая квадратный корень из среднеквадратичной разницы между прогнозируемыми значениями и фактическими значениями в наборе данных таковы, что чем они ниже, тем лучше модели подходят для набора данных. При этом RMSE измеряется в тех же единицах, что и переменная ответа. Коэффициент детерминации (метрика R2), вычисляет долю средней квадратичной ошибки модели от MSE среднего, а затем вычитает эту величину из единицы. Увеличение метрики означает прирост качества модели.\n",
    "    \n",
    "    \n",
    "Наиболее высокие MSE и RMSE у model_c (1598.04 и 39.98 соответственно). Немногим меньше эти метрики  у  model_a (1422.56 и 37.72), что говорит о ее более высоком по сравнению с model_c качеством. Иными словами,  среднее отклонение между прогнозируемым объемом запасов сырья и фактическими его запасами для  model_a составляет 37.72 тыс. баррелей, для  model_c - 39.98. Коэффициент детерминации R2 у model_a выше, чем у model_c (0.28 и 0.20 соответственно). То есть по метрикам качества MSE\tRMSE и R2 model_a представляется более надежной по сравнению с model_c в плане предсказаний.\n",
    "    \n",
    "    \n",
    "Низкие показатели MSE и RMSE (0.79 и 0.89 соответственно) и R2 = 1 у  model_b. Однако, с учетом неравномерного разброса данных целевого признака региона b, который показала гисттограмма, можно сделать  вывод о том, что модель имеет \"скрытые\" недостатки и не вызывает доверия.   "
   ]
  },
  {
   "cell_type": "markdown",
   "metadata": {},
   "source": [
    "## Подготовка к расчёту прибыли"
   ]
  },
  {
   "cell_type": "markdown",
   "metadata": {},
   "source": [
    "На стадии подготовки к расчету прибыли все ключевые значения сохраним в отдельных переменных, после чего рассчитаем для каждого региона объем сырья, достаточный для безубыточной разработки новой скважины. Для сравнительного анализа со средним запасом визуализирукм данные."
   ]
  },
  {
   "cell_type": "code",
   "execution_count": 27,
   "metadata": {},
   "outputs": [],
   "source": [
    "study_regions = 500\n",
    "best_wells = 200 \n",
    "budget = 10000000000\n",
    "barrel_price = 450\n",
    "unit_income = 450000"
   ]
  },
  {
   "cell_type": "markdown",
   "metadata": {},
   "source": [
    "По условию задачи бюджет на разработку скважин составляет 10 млрд. рублей, для разработки выбирают 200 скважин. Чтоб разработка была безубыточной, все эти 200 скважин должны иметь запас сырья в объеме, приносящем доход не менее бюджета, затраченного на их разработку.\n",
    "\n",
    "Разделим бюджет на количество разрабатываемых скважин - получим затраты на разработку 1 скважины. Полученную сумму разделим на доход с 1 единицы продукции (1 тыс. быррелей) и получим количество баррелей нефти (в тысячах) минимально необходимых для безубыточной разработки новой скважины."
   ]
  },
  {
   "cell_type": "code",
   "execution_count": 28,
   "metadata": {},
   "outputs": [
    {
     "name": "stdout",
     "output_type": "stream",
     "text": [
      "На разработку 1 скважины необходимо 50 млн.руб.\n",
      "Минимальный объем запасов нефти для безубыточной разработки 1 скважины составляет 111.11 тыс.баррелей.\n"
     ]
    }
   ],
   "source": [
    "print('На разработку 1 скважины необходимо', round((budget/best_wells)/10**6), 'млн.руб.')\n",
    "print('Минимальный объем запасов нефти для безубыточной разработки 1 скважины составляет',  round(\n",
    "    ((budget/best_wells)/unit_income),2), 'тыс.баррелей.') "
   ]
  },
  {
   "cell_type": "markdown",
   "metadata": {},
   "source": [
    "Визуализируем предсказанные средние запасы сырья в скважине по регионам в сравнении с минимально необходимым для безубыточной разработки."
   ]
  },
  {
   "cell_type": "code",
   "execution_count": 29,
   "metadata": {},
   "outputs": [
    {
     "data": {
      "image/png": "[encoded data removed]",
      "text/plain": [
       "<Figure size 720x360 with 1 Axes>"
      ]
     },
     "metadata": {
      "needs_background": "light"
     },
     "output_type": "display_data"
    }
   ],
   "source": [
    "ax = pd.DataFrame({'a_mean': [round((a_predicted_valid.mean()),2)],\\\n",
    "              'b_mean': [round((b_predicted_valid.mean()),2)],\\\n",
    "              'c_mean': [round((c_predicted_valid.mean()),2)],\\\n",
    "              'min_raw_stuff' :[round(((budget/best_wells)/unit_income),2)]\n",
    "             }, index = ['']).plot.bar(ylim=(50,120), title='Средние запасы сырья', figsize=(10, 5))"
   ]
  },
  {
   "cell_type": "markdown",
   "metadata": {},
   "source": [
    "#### Вывод"
   ]
  },
  {
   "cell_type": "markdown",
   "metadata": {},
   "source": [
    " Согласно произведенным рассчетам на разработку 1 скважины необходимо 50 млн.руб.\n",
    "Минимальный объем запасов нефти для безубыточной разработки 1 скважины должен составлять 111.11 тыс.баррелей. Предсказания моделей о средних объемах сырья ни по одному из регионов не достигают указанного уровня. Согласно предсказаниям моделей  самый большой средний запас объема нефти в регионе c составляет 95.12 тыbс. баррелей, немного меньше - в регионе a составляет 92.42 тыс. баррелей. Значительно меньшие объемы запасов нефти в регионе b, которые, как следует из предсказаний, равны 68.98 тыс. баррелей."
   ]
  },
  {
   "cell_type": "markdown",
   "metadata": {},
   "source": [
    "## Расчёт прибыли и рисков "
   ]
  },
  {
   "cell_type": "markdown",
   "metadata": {},
   "source": [
    "По условию проекта нам необходимо для каждого региона рассчитать потенциальную прибыль, которую можно получить от разработки 200 скважин, в которых, согласно предсказаниям максимальные запасы сырья.\n",
    "\n",
    "В соответствии с исходными данными прибылью в нашем проекте является сумма, полученная от продажи нефти 200 скважин, содержащих, согласно предсказаниям максимальные запасы сырья, за вычетом бюджета, затраченного на их разработку.\n",
    "\n",
    "Для произведения этих рассчетов напишем функцию, которая выберет скважины с максимальными запасами нефти и посчитает прибыль.\n",
    "\n",
    "Общие запасы сырья, содержащиеся в 200 скважинах с максимальным объемом нефти (в тыс. баррелей), посчитаем передав телу функции revenue задачу просуммировать отсортированные в порядке убывания первые 200 объектов из полученных предсказаний.\n",
    "\n",
    "Данные о прибыли посчитает функция prof, которая умножит полученный объем сырья на стоимость единицы продукции. Из общей выручки от продажи нефти функция вычтет затраты (бюджет).\n",
    "\n",
    "В качестве аргумента передадим функциям целевой признак валидационной выборки, предсказания и количество лучших скважин, сохраненное в переменной best_wells. "
   ]
  },
  {
   "cell_type": "markdown",
   "metadata": {},
   "source": [
    "Для корректной работы функции массивы данных целевого признака валидационной выборки и предсказаний представим в виде pd.Series и сделаем их индексы одинаковыми."
   ]
  },
  {
   "cell_type": "code",
   "execution_count": 30,
   "metadata": {},
   "outputs": [
    {
     "name": "stdout",
     "output_type": "stream",
     "text": [
      "0         61.171722\n",
      "1         94.192535\n",
      "2        137.742601\n",
      "3         10.936404\n",
      "4         49.611033\n",
      "            ...    \n",
      "24990     12.229729\n",
      "24991    123.241718\n",
      "24992     59.061651\n",
      "24993     53.837329\n",
      "24994    114.154577\n",
      "Name: product, Length: 24995, dtype: float64\n",
      "0         62.286613\n",
      "1         70.428178\n",
      "2         87.349562\n",
      "3         26.782932\n",
      "4         34.554999\n",
      "            ...    \n",
      "24990     76.559803\n",
      "24991    122.739744\n",
      "24992     95.057433\n",
      "24993     78.944546\n",
      "24994    115.482999\n",
      "Length: 24995, dtype: float64\n"
     ]
    }
   ],
   "source": [
    "a_target_valid = pd.Series(a_target_valid).reset_index(drop=True)\n",
    "a_predicted_valid = pd.Series(a_predicted_valid)\n",
    "print(a_target_valid)\n",
    "print(a_predicted_valid)"
   ]
  },
  {
   "cell_type": "code",
   "execution_count": 31,
   "metadata": {},
   "outputs": [
    {
     "name": "stdout",
     "output_type": "stream",
     "text": [
      "0         57.085625\n",
      "1         57.085625\n",
      "2         53.906522\n",
      "3        134.766305\n",
      "4         84.038886\n",
      "            ...    \n",
      "24993      0.000000\n",
      "24994    110.992147\n",
      "24995    110.992147\n",
      "24996    137.945408\n",
      "24997      0.000000\n",
      "Name: product, Length: 24998, dtype: float64\n",
      "0         55.971735\n",
      "1         54.633633\n",
      "2         54.674833\n",
      "3        133.810938\n",
      "4         85.478312\n",
      "            ...    \n",
      "24993      1.194595\n",
      "24994    109.729474\n",
      "24995    110.002046\n",
      "24996    137.901663\n",
      "24997      0.511335\n",
      "Length: 24998, dtype: float64\n"
     ]
    }
   ],
   "source": [
    "b_target_valid = pd.Series(b_target_valid).reset_index(drop=True)\n",
    "b_predicted_valid = pd.Series(b_predicted_valid)\n",
    "print(b_target_valid)\n",
    "print(b_predicted_valid)"
   ]
  },
  {
   "cell_type": "code",
   "execution_count": 32,
   "metadata": {},
   "outputs": [
    {
     "name": "stdout",
     "output_type": "stream",
     "text": [
      "0         37.147754\n",
      "1         55.498481\n",
      "2         60.024016\n",
      "3         33.638710\n",
      "4        109.242324\n",
      "            ...    \n",
      "24993    110.321550\n",
      "24994     38.047492\n",
      "24995    138.282933\n",
      "24996    147.345577\n",
      "24997     65.334912\n",
      "Name: product, Length: 24998, dtype: float64\n",
      "0         42.989028\n",
      "1         95.462292\n",
      "2        109.408090\n",
      "3        144.760222\n",
      "4        103.116807\n",
      "            ...    \n",
      "24993    128.238720\n",
      "24994     70.665701\n",
      "24995     85.507578\n",
      "24996    111.319557\n",
      "24997     75.944310\n",
      "Length: 24998, dtype: float64\n"
     ]
    }
   ],
   "source": [
    "c_target_valid = pd.Series(c_target_valid).reset_index(drop=True)\n",
    "c_predicted_valid = pd.Series(c_predicted_valid)\n",
    "print(c_target_valid)\n",
    "print(c_predicted_valid)"
   ]
  },
  {
   "cell_type": "markdown",
   "metadata": {},
   "source": [
    "Массивы данных преобразованы, индексы унифицированны. Пишем функцию."
   ]
  },
  {
   "cell_type": "code",
   "execution_count": 33,
   "metadata": {},
   "outputs": [],
   "source": [
    "def revenue(target, probabilities, count):\n",
    "    probs_sorted = probabilities.sort_values(ascending=False)[:count]\n",
    "    selected = target[probs_sorted.index]\n",
    "    return selected.sum() \n",
    "\n",
    "\n",
    "def prof(target, probabilities, count):\n",
    "    probs_sorted = probabilities.sort_values(ascending=False)[:count]\n",
    "    selected = target[probs_sorted.index]\n",
    "    profit = (selected.sum()*unit_income) - budget \n",
    "    return profit\n"
   ]
  },
  {
   "cell_type": "markdown",
   "metadata": {},
   "source": [
    "Применяем функцию к данным региона a"
   ]
  },
  {
   "cell_type": "code",
   "execution_count": 34,
   "metadata": {},
   "outputs": [
    {
     "name": "stdout",
     "output_type": "stream",
     "text": [
      "Целевой объем сырья на лучших скважинах региона a, согласно предсказаниям, составляет 29191 тыс. баррелей.\n",
      "Сумма прибыли составит 3136 млн.рублей.\n"
     ]
    },
    {
     "data": {
      "text/plain": [
       "['регион a', 29191, 3136]"
      ]
     },
     "execution_count": 34,
     "metadata": {},
     "output_type": "execute_result"
    }
   ],
   "source": [
    "target = a_target_valid\n",
    "probabilities = a_predicted_valid\n",
    "print('Целевой объем сырья на лучших скважинах региона a, согласно предсказаниям, составляет', round(revenue(\n",
    "    target, probabilities, best_wells)),'тыс. баррелей.')\n",
    "print('Сумма прибыли составит', round(prof(target, probabilities, best_wells)/10**6), \"млн.рублей.\")\n",
    "\n",
    "max_oil_a = round(revenue(target, probabilities, best_wells))\n",
    "best_wells_a = round(prof(target, probabilities, best_wells)/10**6)\n",
    "\n",
    "m_a = ['регион a', max_oil_a, best_wells_a]\n",
    "m_a\n"
   ]
  },
  {
   "cell_type": "markdown",
   "metadata": {},
   "source": [
    "Применяем функцию к данным по региону b"
   ]
  },
  {
   "cell_type": "code",
   "execution_count": 35,
   "metadata": {},
   "outputs": [
    {
     "name": "stdout",
     "output_type": "stream",
     "text": [
      "Целевой объем сырья на лучших скважинах региона b, согласно предсказаниям, составляет 27589 тыс. баррелей.\n",
      "Сумма прибыли составит 2415 млн.рублей.\n"
     ]
    },
    {
     "data": {
      "text/plain": [
       "['регион b', 27589, 2415]"
      ]
     },
     "execution_count": 35,
     "metadata": {},
     "output_type": "execute_result"
    }
   ],
   "source": [
    "target = b_target_valid\n",
    "probabilities = b_predicted_valid\n",
    "print('Целевой объем сырья на лучших скважинах региона b, согласно предсказаниям, составляет', round(revenue(\n",
    "    target, probabilities, best_wells)),'тыс. баррелей.')\n",
    "print('Сумма прибыли составит', round(prof(target, probabilities, best_wells)/10**6), \"млн.рублей.\")\n",
    "\n",
    "max_oil_b = round(revenue(target, probabilities, best_wells))\n",
    "best_wells_b = round(prof(target, probabilities, best_wells)/10**6)\n",
    "\n",
    "m_b = ['регион b', max_oil_b, best_wells_b]\n",
    "m_b\n"
   ]
  },
  {
   "cell_type": "markdown",
   "metadata": {},
   "source": [
    "Применяем функцию к данным по региону c"
   ]
  },
  {
   "cell_type": "code",
   "execution_count": 36,
   "metadata": {},
   "outputs": [
    {
     "name": "stdout",
     "output_type": "stream",
     "text": [
      "Целевой объем сырья на лучших скважинах региона c, согласно предсказаниям, составляет 27702 тыс. баррелей.\n",
      "Сумма прибыли составит 2466 млн.рублей.\n"
     ]
    },
    {
     "data": {
      "text/plain": [
       "['регион c', 27702, 2466]"
      ]
     },
     "execution_count": 36,
     "metadata": {},
     "output_type": "execute_result"
    }
   ],
   "source": [
    "target = c_target_valid\n",
    "probabilities = c_predicted_valid\n",
    "print('Целевой объем сырья на лучших скважинах региона c, согласно предсказаниям, составляет', round(revenue(\n",
    "    target, probabilities, best_wells)),'тыс. баррелей.')\n",
    "print('Сумма прибыли составит', round(prof(target, probabilities, best_wells)/10**6), \"млн.рублей.\")\n",
    "\n",
    "max_oil_c = round(revenue(target, probabilities, best_wells))\n",
    "best_wells_c = round(prof(target, probabilities, best_wells)/10**6)\n",
    "\n",
    "m_c = ['регион c', max_oil_c, best_wells_c]\n",
    "m_c\n"
   ]
  },
  {
   "cell_type": "markdown",
   "metadata": {},
   "source": [
    "Визуализируем результаты"
   ]
  },
  {
   "cell_type": "code",
   "execution_count": 37,
   "metadata": {},
   "outputs": [
    {
     "data": {
      "text/html": [
       "<div>\n",
       "<style scoped>\n",
       "    .dataframe tbody tr th:only-of-type {\n",
       "        vertical-align: middle;\n",
       "    }\n",
       "\n",
       "    .dataframe tbody tr th {\n",
       "        vertical-align: top;\n",
       "    }\n",
       "\n",
       "    .dataframe thead th {\n",
       "        text-align: right;\n",
       "    }\n",
       "</style>\n",
       "<table border=\"1\" class=\"dataframe\">\n",
       "  <thead>\n",
       "    <tr style=\"text-align: right;\">\n",
       "      <th></th>\n",
       "      <th>profit</th>\n",
       "      <th>v</th>\n",
       "    </tr>\n",
       "    <tr>\n",
       "      <th>max_oil</th>\n",
       "      <th></th>\n",
       "      <th></th>\n",
       "    </tr>\n",
       "  </thead>\n",
       "  <tbody>\n",
       "    <tr>\n",
       "      <th>регион a</th>\n",
       "      <td>3136</td>\n",
       "      <td>29191</td>\n",
       "    </tr>\n",
       "    <tr>\n",
       "      <th>регион b</th>\n",
       "      <td>2415</td>\n",
       "      <td>27589</td>\n",
       "    </tr>\n",
       "    <tr>\n",
       "      <th>регион c</th>\n",
       "      <td>2466</td>\n",
       "      <td>27702</td>\n",
       "    </tr>\n",
       "  </tbody>\n",
       "</table>\n",
       "</div>"
      ],
      "text/plain": [
       "          profit      v\n",
       "max_oil                \n",
       "регион a    3136  29191\n",
       "регион b    2415  27589\n",
       "регион c    2466  27702"
      ]
     },
     "metadata": {},
     "output_type": "display_data"
    },
    {
     "data": {
      "image/png": "[encoded data removed]",
      "text/plain": [
       "<Figure size 720x360 with 1 Axes>"
      ]
     },
     "metadata": {
      "needs_background": "light"
     },
     "output_type": "display_data"
    }
   ],
   "source": [
    "g = pd.DataFrame(data = [m_a, m_b, m_c],columns = ['max_oil','v', 'profit'])\n",
    "g = g.pivot_table(index='max_oil', values=['v', 'profit'])\n",
    "display(g)\n",
    "ax = g.plot(grid=True, kind='bar', title='Предсказания на лучших скважинах', figsize=(10, 5))"
   ]
  },
  {
   "cell_type": "markdown",
   "metadata": {},
   "source": [
    "#### Вывод"
   ]
  },
  {
   "cell_type": "markdown",
   "metadata": {},
   "source": [
    " Согласно расчетам, полученным на основе предсказаний, самые больши запасы сырья и, соотвественно, прибыль на 200 лучших скважинах  региона a (29191 тыс.баррелей и 3136 млн. рублей соотвественно). Немного меньше показатели в регионе с (27702 тыс.баррелей и 2466\tмлн. рублей). Наименьшие запасы сырья и наименьшая прибыль ожидается от разработки региона b (27589 тыс.баррелей и 2415 млн. рублей)."
   ]
  },
  {
   "cell_type": "markdown",
   "metadata": {},
   "source": [
    "В соответствии с условием проекта для каждого региона найдем распределение прибыли на 200 лучших из 500 скважин. Для этого применим технику Bootstrap, посчитаем среднюю прибыль, 95%-й доверительный интервал и риск убытков.\n",
    "\n",
    "В технике Bootstrap зададим в соответствии с условием проекта 1000 выборок, указав размер выборки как количество исследованных скважин, сохраненных в переменной study_regions\n",
    "\n",
    "Среднюю прибыль посчитаем методом mean().\n",
    "\n",
    "95%-й доверительный об общего массива определим посредством метода quantile(), передав нижнему пределу значение 0.025, верхнему - 0.975 (выбросив одинаковую долю экстремальных значений с каждой стороны от диапазона 95%) \n",
    "\n",
    "Риск убытков посчитаем как % объектов с отрицательной прибылью от общего количества объектов выборки.\n",
    "\n",
    "Кроме того, для наглядности построим гистограммы распределений средней прибыли для каждого региона и выведем характеристики распределения."
   ]
  },
  {
   "cell_type": "code",
   "execution_count": 38,
   "metadata": {},
   "outputs": [
    {
     "name": "stdout",
     "output_type": "stream",
     "text": [
      "Нижний предел доверительного интервала: -90234067\n",
      "Верхний предел доверительного интервала: 987953883\n",
      "Истинное среднее значение прибыли: 459085613\n",
      "Риск: 0.047 %\n"
     ]
    },
    {
     "data": {
      "text/plain": [
       "count    1.000000e+03\n",
       "mean     4.590856e+08\n",
       "std      2.753320e+08\n",
       "min     -3.822439e+08\n",
       "25%      2.754600e+08\n",
       "50%      4.595973e+08\n",
       "75%      6.454770e+08\n",
       "max      1.347535e+09\n",
       "dtype: float64"
      ]
     },
     "execution_count": 38,
     "metadata": {},
     "output_type": "execute_result"
    },
    {
     "data": {
      "image/png": "[encoded data removed]",
      "text/plain": [
       "<Figure size 576x360 with 1 Axes>"
      ]
     },
     "metadata": {
      "needs_background": "light"
     },
     "output_type": "display_data"
    }
   ],
   "source": [
    "target = a_target_valid\n",
    "probabilities = a_predicted_valid\n",
    "\n",
    "def revenue(target, probabilities, count):\n",
    "    probs_sorted = probabilities.sort_values(ascending=False)[:count]\n",
    "    selected = target[probs_sorted.index][:count]\n",
    "    #print(len(selected))\n",
    "    return (selected.sum()*unit_income) - budget \n",
    "    \n",
    "    \n",
    "state = np.random.RandomState(12345)\n",
    "    \n",
    "values = []\n",
    "for i in range(1000):\n",
    "    target_subsample = target.sample(n=study_regions, replace=True, random_state=state)\n",
    "    probs_subsample = probabilities[target_subsample.index]\n",
    "    values.append(revenue(target_subsample, probs_subsample,best_wells))\n",
    "    \n",
    "\n",
    "values = pd.Series(values)\n",
    "lower = values.quantile(0.025)\n",
    "upper = values.quantile(0.975)\n",
    "mean = values.mean()\n",
    "risk = (values < 0).mean()\n",
    "\n",
    "\n",
    "print(\"Нижний предел доверительного интервала:\", round(lower))\n",
    "print(\"Верхний предел доверительного интервала:\",round(upper))\n",
    "print(\"Истинное среднее значение прибыли:\", round(mean))\n",
    "print(\"Риск:\", risk, \"%\")\n",
    "\n",
    "f = ['регион a',round(lower),round(upper),round(mean),risk] \n",
    "values.hist(figsize=(8, 5))\n",
    "values.describe()\n"
   ]
  },
  {
   "cell_type": "code",
   "execution_count": 39,
   "metadata": {},
   "outputs": [
    {
     "name": "stdout",
     "output_type": "stream",
     "text": [
      "Нижний предел доверительного интервала: 86681038\n",
      "Верхний предел доверительного интервала: 958082040\n",
      "Истинное среднее значение прибыли: 535246952\n",
      "Риск: 0.014 %\n"
     ]
    },
    {
     "data": {
      "text/plain": [
       "count    1.000000e+03\n",
       "mean     5.352470e+08\n",
       "std      2.227117e+08\n",
       "min     -1.929523e+08\n",
       "25%      3.931878e+08\n",
       "50%      5.397617e+08\n",
       "75%      6.674580e+08\n",
       "max      1.327460e+09\n",
       "dtype: float64"
      ]
     },
     "execution_count": 39,
     "metadata": {},
     "output_type": "execute_result"
    },
    {
     "data": {
      "image/png": "[encoded data removed]",
      "text/plain": [
       "<Figure size 576x360 with 1 Axes>"
      ]
     },
     "metadata": {
      "needs_background": "light"
     },
     "output_type": "display_data"
    }
   ],
   "source": [
    "target = b_target_valid\n",
    "probabilities = b_predicted_valid\n",
    "\n",
    "def revenue(target, probabilities, count):\n",
    "    probs_sorted = probabilities.sort_values(ascending=False)[:count]\n",
    "    selected = target[probs_sorted.index][:count]\n",
    "    #print(len(selected))# < напишите код здесь >\n",
    "    return (selected.sum()*unit_income) - budget # < напишите код здесь >\n",
    "\n",
    "state = np.random.RandomState(12345)\n",
    "    \n",
    "values = []\n",
    "for i in range(1000):\n",
    "    target_subsample = target.sample(n=study_regions, replace=True, random_state=state)\n",
    "    probs_subsample = probabilities[target_subsample.index]\n",
    "    values.append(revenue(target_subsample, probs_subsample, best_wells))\n",
    "    \n",
    "\n",
    "values = pd.Series(values)\n",
    "lower = values.quantile(0.025)\n",
    "upper = values.quantile(0.975)\n",
    "mean = values.mean()\n",
    "#risk = round((len(values[values<0])/len(values)*100),2)\n",
    "risk = (values < 0).mean()\n",
    "print(\"Нижний предел доверительного интервала:\", round(lower))\n",
    "print(\"Верхний предел доверительного интервала:\",round(upper))\n",
    "print(\"Истинное среднее значение прибыли:\", round(mean))\n",
    "print(\"Риск:\", risk, \"%\")\n",
    "\n",
    "h = ['регион b',round(lower),round(upper),round(mean),risk]\n",
    "\n",
    "values.hist(figsize=(8, 5))\n",
    "values.describe()\n"
   ]
  },
  {
   "cell_type": "code",
   "execution_count": 40,
   "metadata": {},
   "outputs": [
    {
     "name": "stdout",
     "output_type": "stream",
     "text": [
      "Нижний предел доверительного интервала: -174807393\n",
      "Верхний предел доверительного интервала: 879066224\n",
      "Истинное среднее значение прибыли: 351243818\n",
      "Риск: 0.114 %\n"
     ]
    },
    {
     "data": {
      "text/plain": [
       "count    1.000000e+03\n",
       "mean     3.512438e+08\n",
       "std      2.773786e+08\n",
       "min     -4.923661e+08\n",
       "25%      1.703331e+08\n",
       "50%      3.568621e+08\n",
       "75%      5.369522e+08\n",
       "max      1.120094e+09\n",
       "dtype: float64"
      ]
     },
     "execution_count": 40,
     "metadata": {},
     "output_type": "execute_result"
    },
    {
     "data": {
      "image/png": "[encoded data removed]",
      "text/plain": [
       "<Figure size 576x360 with 1 Axes>"
      ]
     },
     "metadata": {
      "needs_background": "light"
     },
     "output_type": "display_data"
    }
   ],
   "source": [
    "target = c_target_valid\n",
    "probabilities = c_predicted_valid\n",
    "\n",
    "\n",
    "def revenue(target, probabilities, count):\n",
    "    probs_sorted = probabilities.sort_values(ascending=False)[:count]\n",
    "    selected = target[probs_sorted.index][:count]\n",
    "    #print(len(selected))\n",
    "    return (selected.sum()*unit_income) - budget \n",
    "state = np.random.RandomState(12345)\n",
    "    \n",
    "values = []\n",
    "for i in range(1000):\n",
    "    target_subsample = target.sample(n=study_regions, replace=True, random_state=state)\n",
    "    probs_subsample = probabilities[target_subsample.index]\n",
    "    values.append(revenue(target_subsample, probs_subsample, best_wells))\n",
    "        \n",
    "\n",
    "values = pd.Series(values)\n",
    "lower = values.quantile(0.025)\n",
    "upper = values.quantile(0.975)\n",
    "mean = values.mean()\n",
    "#risk = round((len(values[values<0])/len(values)*100),2)\n",
    "risk = (values < 0).mean()\n",
    "\n",
    "print(\"Нижний предел доверительного интервала:\", round(lower))\n",
    "print(\"Верхний предел доверительного интервала:\",round(upper))\n",
    "print(\"Истинное среднее значение прибыли:\", round(mean))\n",
    "print(\"Риск:\", risk, \"%\")\n",
    "\n",
    "j = ['регион c',round(lower),round(upper),round(mean),risk]\n",
    "\n",
    "values.hist(figsize=(8, 5))\n",
    "values.describe()"
   ]
  },
  {
   "cell_type": "markdown",
   "metadata": {},
   "source": [
    "Визуализируем рассчеты"
   ]
  },
  {
   "cell_type": "code",
   "execution_count": 41,
   "metadata": {},
   "outputs": [
    {
     "data": {
      "text/html": [
       "<div>\n",
       "<style scoped>\n",
       "    .dataframe tbody tr th:only-of-type {\n",
       "        vertical-align: middle;\n",
       "    }\n",
       "\n",
       "    .dataframe tbody tr th {\n",
       "        vertical-align: top;\n",
       "    }\n",
       "\n",
       "    .dataframe thead th {\n",
       "        text-align: right;\n",
       "    }\n",
       "</style>\n",
       "<table border=\"1\" class=\"dataframe\">\n",
       "  <thead>\n",
       "    <tr style=\"text-align: right;\">\n",
       "      <th></th>\n",
       "      <th>region</th>\n",
       "      <th>lower</th>\n",
       "      <th>upper</th>\n",
       "      <th>mean</th>\n",
       "      <th>risk</th>\n",
       "    </tr>\n",
       "  </thead>\n",
       "  <tbody>\n",
       "    <tr>\n",
       "      <th>0</th>\n",
       "      <td>регион a</td>\n",
       "      <td>-90234067</td>\n",
       "      <td>987953883</td>\n",
       "      <td>459085613</td>\n",
       "      <td>0.047</td>\n",
       "    </tr>\n",
       "    <tr>\n",
       "      <th>1</th>\n",
       "      <td>регион b</td>\n",
       "      <td>86681038</td>\n",
       "      <td>958082040</td>\n",
       "      <td>535246952</td>\n",
       "      <td>0.014</td>\n",
       "    </tr>\n",
       "    <tr>\n",
       "      <th>2</th>\n",
       "      <td>регион c</td>\n",
       "      <td>-174807393</td>\n",
       "      <td>879066224</td>\n",
       "      <td>351243818</td>\n",
       "      <td>0.114</td>\n",
       "    </tr>\n",
       "  </tbody>\n",
       "</table>\n",
       "</div>"
      ],
      "text/plain": [
       "     region      lower      upper       mean   risk\n",
       "0  регион a  -90234067  987953883  459085613  0.047\n",
       "1  регион b   86681038  958082040  535246952  0.014\n",
       "2  регион c -174807393  879066224  351243818  0.114"
      ]
     },
     "metadata": {},
     "output_type": "display_data"
    }
   ],
   "source": [
    "s = pd.DataFrame(data = [f, h, j],columns = ['region','lower', 'upper','mean', 'risk'])\n",
    "display(s)"
   ]
  },
  {
   "cell_type": "markdown",
   "metadata": {},
   "source": [
    "#### Вывод"
   ]
  },
  {
   "cell_type": "markdown",
   "metadata": {},
   "source": [
    " Согласно модели предсказаний прибыль в границах 95% доверительного интервала ожидается в регионах a и b. В регионе c  нижний предел доверительного интервала - отрицательная величина, а значит принесет убытки в пределах доверительного интервала. \n",
    "    \n",
    "Истинное среднее значение прибыли более других в регионе  b (683650778 руб), здесь же и наименьшие риски (0.7%).\n",
    "    \n",
    "Вместе с тем, с учетом сильного разброса исходных данных целевого признака, неправдоподобно хороших метрик качества модели линейной регрессии, построенной на данных региона b, оптимальным будет предложить для разработки регион a, как имеющий нормальное распределение исходных данных целевого признака, более высокие на фоне региона с метрики качества предсказаний модели, отсутствие отрицательной прибыли в 95% доверительном интервале и средние (на фоне регионов b и c) риски 2%.    "
   ]
  },
  {
   "cell_type": "markdown",
   "metadata": {},
   "source": [
    "#### Общий вывод"
   ]
  },
  {
   "cell_type": "markdown",
   "metadata": {},
   "source": [
    " В соответствии с целью проекта мы построили модели машинного обучения для нефтедобывающей компании «ГлавРосГосНефть», по предсказаниям которых определили регион, в котором добыча нефти принесет наибольшую прибыль. Для построния модели мы использовали  данные о пробах нефти в трёх регионах, в каждом из которых 10 000 месторождений, измерены качество нефти и объём её запасов, представленные в трех датасетах.\n",
    "    \n",
    "В ходе подготовки данных во всех датасетах мы удалили строки с дубликатами по столбцу \"id\" после чего удалили этот столбец, как фиктивный признак.\n",
    "    \n",
    "Также при изучении данных построили гистограммы распределения по целевому признаку, которые показывают, что в регионах a и c распределение значений целевого признака близко к нормальному. В регионе b с максимальной частотой встречаются скважины, имеющие запас сырья далеко за пределами первой и третьей квартилей.\n",
    "    \n",
    "В ходе исследования построены три модели машинного обучения (по каждому региону) \"Линейная регрессия\", которые обучены на обучающей выборке и получены предсказания на валидационной. Выборки были разделены в соотношении 75:25. Для всех моделей рассчитали метрики качества MSE RMSE и R2.       \n",
    "    \n",
    "Самые низкие показатели MSE и RMSE (0.79 и 0.89 соответственно) и самый высокий R2 = 1 у model_b. Однако, с учетом неравномерного разброса данных целевого признака региона b, который показала гисттограмма, можно сделать вывод о том, что модель имеет \"скрытые\" недостатки и не вызывает доверия.\n",
    "    \n",
    "По метрикам качества в плане предсказаний model_a представляется более надежной по сравнению с model_c. У model_a MSE и RMSE (1422.56 и 37.72) ниже по сравнению с  model_c (1598.04 и 39.98), а коэффициент детерминации выше (0.28 и 0.20 соответственно).        \n",
    "    \n",
    "Согласно произведенным рассчетам на разработку 1 скважины необходимо 50 млн.руб. Минимальный объем запасов нефти для безубыточной разработки 1 скважины должен составлять 111.11 тыс.баррелей. Предсказания моделей о средних объемах сырья ни по одному из регионов не достигают указанного уровня. Согласно предсказаниям моделей самый большой средний запас объема нефти в регионе c составляет 95.12 тыс. баррелей, немного меньше - в регионе a составляет 92.42 тыс. баррелей. Значительно меньшие объемы запасов нефти в регионе b, которые, как следует из предсказаний, равны 68.98 тыс. баррелей.    \n",
    "    \n",
    "Вместе с тем, самые большие запасы сырья и, соотвественно, прибыль предсказаны на 200 лучших скважинах региона a (29191 тыс.баррелей и 3136 млн. рублей соотвественно).\n",
    "    \n",
    "Согласно модели предсказаний прибыль в границах 95% доверительного интервала ожидается в регионах a и b. В регионе c нижний предел доверительного интервала - отрицательная величина, а значит в пределах доверительного интервала будут убытки.\n",
    "    \n",
    "    \n",
    "Истинное среднее значение прибыли более других в регионе b (683650778 руб), здесь же и наименьшие риски (0.7%). Вместе с тем, с учетом неравномерного разброса исходных данных целевого признака, неправдоподобно хороших метрик качества модели линейной регрессии, построенной на данных региона b, оптимальным будет предложить для разработки регион a, как имеющий нормальное распределение исходных данных целевого признака, лучшие на фоне региона c метрики качества предсказаний модели, отсутствие отрицательной прибыли в 95% доверительном интервале и средние  риски 2%.      \n",
    "    "
   ]
  }
 ],
 "metadata": {
  "ExecuteTimeLog": [
   {
    "duration": 414,
    "start_time": "2022-09-10T16:16:59.218Z"
   },
   {
    "duration": 540,
    "start_time": "2022-09-10T16:17:01.741Z"
   },
   {
    "duration": 139,
    "start_time": "2022-09-10T16:17:13.435Z"
   },
   {
    "duration": 325,
    "start_time": "2022-09-10T16:18:19.170Z"
   },
   {
    "duration": 451,
    "start_time": "2022-09-10T16:19:08.172Z"
   },
   {
    "duration": 3,
    "start_time": "2022-09-10T17:39:31.542Z"
   },
   {
    "duration": 72,
    "start_time": "2022-09-10T17:39:35.657Z"
   },
   {
    "duration": 93,
    "start_time": "2022-09-10T17:40:13.472Z"
   },
   {
    "duration": 78,
    "start_time": "2022-09-10T17:40:30.816Z"
   },
   {
    "duration": 65,
    "start_time": "2022-09-10T17:41:38.841Z"
   },
   {
    "duration": 98,
    "start_time": "2022-09-10T17:42:17.643Z"
   },
   {
    "duration": 3,
    "start_time": "2022-09-10T17:43:27.751Z"
   },
   {
    "duration": 40,
    "start_time": "2022-09-10T17:43:27.755Z"
   },
   {
    "duration": 417,
    "start_time": "2022-09-10T17:46:35.047Z"
   },
   {
    "duration": 3,
    "start_time": "2022-09-10T17:47:37.433Z"
   },
   {
    "duration": 394,
    "start_time": "2022-09-10T17:47:37.438Z"
   },
   {
    "duration": 37,
    "start_time": "2022-09-10T17:47:37.835Z"
   },
   {
    "duration": 22,
    "start_time": "2022-09-10T17:47:37.875Z"
   },
   {
    "duration": 23,
    "start_time": "2022-09-10T17:47:37.899Z"
   },
   {
    "duration": 29,
    "start_time": "2022-09-10T17:55:23.207Z"
   },
   {
    "duration": 38,
    "start_time": "2022-09-10T17:56:26.399Z"
   },
   {
    "duration": 35,
    "start_time": "2022-09-10T17:57:17.950Z"
   },
   {
    "duration": 27,
    "start_time": "2022-09-10T19:08:08.108Z"
   },
   {
    "duration": 66,
    "start_time": "2022-09-10T19:09:05.981Z"
   },
   {
    "duration": 1307,
    "start_time": "2022-09-10T19:09:57.533Z"
   },
   {
    "duration": 45,
    "start_time": "2022-09-10T19:10:35.482Z"
   },
   {
    "duration": 45,
    "start_time": "2022-09-10T19:16:55.606Z"
   },
   {
    "duration": 66,
    "start_time": "2022-09-10T19:18:08.961Z"
   },
   {
    "duration": 61,
    "start_time": "2022-09-10T19:18:33.976Z"
   },
   {
    "duration": 52,
    "start_time": "2022-09-10T19:19:01.655Z"
   },
   {
    "duration": 83,
    "start_time": "2022-09-10T19:19:49.351Z"
   },
   {
    "duration": 49,
    "start_time": "2022-09-10T19:20:33.758Z"
   },
   {
    "duration": 48,
    "start_time": "2022-09-10T19:21:23.048Z"
   },
   {
    "duration": 3,
    "start_time": "2022-09-10T19:21:33.645Z"
   },
   {
    "duration": 401,
    "start_time": "2022-09-10T19:21:33.651Z"
   },
   {
    "duration": 87,
    "start_time": "2022-09-10T19:21:34.054Z"
   },
   {
    "duration": 54,
    "start_time": "2022-09-10T19:21:34.143Z"
   },
   {
    "duration": 69,
    "start_time": "2022-09-10T19:21:34.199Z"
   },
   {
    "duration": 10,
    "start_time": "2022-09-10T19:22:13.405Z"
   },
   {
    "duration": 33,
    "start_time": "2022-09-10T19:22:42.841Z"
   },
   {
    "duration": 3,
    "start_time": "2022-09-10T19:23:24.093Z"
   },
   {
    "duration": 416,
    "start_time": "2022-09-10T19:23:24.099Z"
   },
   {
    "duration": 31,
    "start_time": "2022-09-10T19:23:24.517Z"
   },
   {
    "duration": 11,
    "start_time": "2022-09-10T19:23:24.550Z"
   },
   {
    "duration": 33,
    "start_time": "2022-09-10T19:23:24.563Z"
   },
   {
    "duration": 72,
    "start_time": "2022-09-10T19:23:24.597Z"
   },
   {
    "duration": 57,
    "start_time": "2022-09-10T19:23:24.671Z"
   },
   {
    "duration": 40,
    "start_time": "2022-09-10T19:24:28.214Z"
   },
   {
    "duration": 24,
    "start_time": "2022-09-10T19:24:42.348Z"
   },
   {
    "duration": 62,
    "start_time": "2022-09-10T19:25:40.665Z"
   },
   {
    "duration": 73,
    "start_time": "2022-09-10T19:26:17.418Z"
   },
   {
    "duration": 45,
    "start_time": "2022-09-10T19:27:16.747Z"
   },
   {
    "duration": 9,
    "start_time": "2022-09-10T19:41:48.809Z"
   },
   {
    "duration": 38,
    "start_time": "2022-09-10T19:42:10.113Z"
   },
   {
    "duration": 85,
    "start_time": "2022-09-10T19:43:42.306Z"
   },
   {
    "duration": 69,
    "start_time": "2022-09-10T19:44:59.444Z"
   },
   {
    "duration": 137,
    "start_time": "2022-09-10T19:49:02.404Z"
   },
   {
    "duration": 2,
    "start_time": "2022-09-10T19:49:44.670Z"
   },
   {
    "duration": 394,
    "start_time": "2022-09-10T19:49:44.674Z"
   },
   {
    "duration": 73,
    "start_time": "2022-09-10T19:49:45.070Z"
   },
   {
    "duration": 79,
    "start_time": "2022-09-10T19:49:45.146Z"
   },
   {
    "duration": 51,
    "start_time": "2022-09-10T19:49:45.227Z"
   },
   {
    "duration": 51,
    "start_time": "2022-09-10T19:49:45.279Z"
   },
   {
    "duration": 121,
    "start_time": "2022-09-10T19:49:45.332Z"
   },
   {
    "duration": 63,
    "start_time": "2022-09-10T19:51:37.765Z"
   },
   {
    "duration": 83,
    "start_time": "2022-09-10T19:52:29.031Z"
   },
   {
    "duration": 113,
    "start_time": "2022-09-10T19:53:55.983Z"
   },
   {
    "duration": 66,
    "start_time": "2022-09-10T19:54:27.008Z"
   },
   {
    "duration": 3,
    "start_time": "2022-09-10T19:54:42.302Z"
   },
   {
    "duration": 381,
    "start_time": "2022-09-10T19:54:42.306Z"
   },
   {
    "duration": 34,
    "start_time": "2022-09-10T19:54:42.689Z"
   },
   {
    "duration": 68,
    "start_time": "2022-09-10T19:54:42.725Z"
   },
   {
    "duration": 77,
    "start_time": "2022-09-10T19:54:42.794Z"
   },
   {
    "duration": 59,
    "start_time": "2022-09-10T19:54:42.872Z"
   },
   {
    "duration": 54,
    "start_time": "2022-09-10T19:54:42.933Z"
   },
   {
    "duration": 43,
    "start_time": "2022-09-10T19:55:37.588Z"
   },
   {
    "duration": 91,
    "start_time": "2022-09-10T19:55:49.039Z"
   },
   {
    "duration": 29,
    "start_time": "2022-09-10T19:56:00.383Z"
   },
   {
    "duration": 45,
    "start_time": "2022-09-10T19:56:13.688Z"
   },
   {
    "duration": 57,
    "start_time": "2022-09-10T19:56:41.936Z"
   },
   {
    "duration": 1055,
    "start_time": "2022-09-11T11:24:24.541Z"
   },
   {
    "duration": 729,
    "start_time": "2022-09-11T11:24:25.599Z"
   },
   {
    "duration": 31,
    "start_time": "2022-09-11T11:24:26.330Z"
   },
   {
    "duration": 59,
    "start_time": "2022-09-11T11:24:26.363Z"
   },
   {
    "duration": 43,
    "start_time": "2022-09-11T11:24:26.424Z"
   },
   {
    "duration": 62,
    "start_time": "2022-09-11T11:24:26.469Z"
   },
   {
    "duration": 40,
    "start_time": "2022-09-11T11:24:26.533Z"
   },
   {
    "duration": 71,
    "start_time": "2022-09-11T11:24:26.574Z"
   },
   {
    "duration": 2,
    "start_time": "2022-09-11T11:26:35.208Z"
   },
   {
    "duration": 91,
    "start_time": "2022-09-11T11:30:44.112Z"
   },
   {
    "duration": 21,
    "start_time": "2022-09-11T11:30:57.675Z"
   },
   {
    "duration": 2,
    "start_time": "2022-09-11T11:39:57.195Z"
   },
   {
    "duration": 70,
    "start_time": "2022-09-11T12:19:30.141Z"
   },
   {
    "duration": 30,
    "start_time": "2022-09-11T12:19:38.158Z"
   },
   {
    "duration": 28,
    "start_time": "2022-09-11T12:20:04.510Z"
   },
   {
    "duration": 4,
    "start_time": "2022-09-11T12:20:09.533Z"
   },
   {
    "duration": 434,
    "start_time": "2022-09-11T12:20:09.540Z"
   },
   {
    "duration": 25,
    "start_time": "2022-09-11T12:20:09.976Z"
   },
   {
    "duration": 74,
    "start_time": "2022-09-11T12:20:10.002Z"
   },
   {
    "duration": 28,
    "start_time": "2022-09-11T12:20:10.077Z"
   },
   {
    "duration": 34,
    "start_time": "2022-09-11T12:20:10.107Z"
   },
   {
    "duration": 23,
    "start_time": "2022-09-11T12:20:10.143Z"
   },
   {
    "duration": 77,
    "start_time": "2022-09-11T12:20:10.167Z"
   },
   {
    "duration": 52,
    "start_time": "2022-09-11T12:20:10.246Z"
   },
   {
    "duration": 71,
    "start_time": "2022-09-11T12:20:10.301Z"
   },
   {
    "duration": 40,
    "start_time": "2022-09-11T12:20:10.374Z"
   },
   {
    "duration": 32,
    "start_time": "2022-09-11T12:31:12.965Z"
   },
   {
    "duration": 45,
    "start_time": "2022-09-11T12:31:36.719Z"
   },
   {
    "duration": 8,
    "start_time": "2022-09-11T12:31:43.634Z"
   },
   {
    "duration": 404,
    "start_time": "2022-09-11T12:31:43.645Z"
   },
   {
    "duration": 25,
    "start_time": "2022-09-11T12:31:44.051Z"
   },
   {
    "duration": 84,
    "start_time": "2022-09-11T12:31:44.077Z"
   },
   {
    "duration": 33,
    "start_time": "2022-09-11T12:31:44.164Z"
   },
   {
    "duration": 40,
    "start_time": "2022-09-11T12:31:44.199Z"
   },
   {
    "duration": 47,
    "start_time": "2022-09-11T12:31:44.240Z"
   },
   {
    "duration": 59,
    "start_time": "2022-09-11T12:31:44.288Z"
   },
   {
    "duration": 42,
    "start_time": "2022-09-11T12:31:44.349Z"
   },
   {
    "duration": 67,
    "start_time": "2022-09-11T12:31:44.393Z"
   },
   {
    "duration": 120,
    "start_time": "2022-09-11T12:32:24.714Z"
   },
   {
    "duration": 35,
    "start_time": "2022-09-11T12:32:46.023Z"
   },
   {
    "duration": 22,
    "start_time": "2022-09-11T12:33:14.070Z"
   },
   {
    "duration": 50,
    "start_time": "2022-09-11T12:33:26.650Z"
   },
   {
    "duration": 36,
    "start_time": "2022-09-11T12:34:20.584Z"
   },
   {
    "duration": 42,
    "start_time": "2022-09-11T12:34:43.808Z"
   },
   {
    "duration": 45,
    "start_time": "2022-09-11T12:35:23.599Z"
   },
   {
    "duration": 39,
    "start_time": "2022-09-11T12:35:34.976Z"
   },
   {
    "duration": 4,
    "start_time": "2022-09-11T12:41:04.986Z"
   },
   {
    "duration": 4,
    "start_time": "2022-09-11T12:57:49.694Z"
   },
   {
    "duration": 20,
    "start_time": "2022-09-11T12:59:00.036Z"
   },
   {
    "duration": 18,
    "start_time": "2022-09-11T14:13:00.558Z"
   },
   {
    "duration": 21,
    "start_time": "2022-09-11T14:14:50.579Z"
   },
   {
    "duration": 31,
    "start_time": "2022-09-11T14:16:48.108Z"
   },
   {
    "duration": 4,
    "start_time": "2022-09-11T14:17:11.778Z"
   },
   {
    "duration": 369,
    "start_time": "2022-09-11T14:17:11.784Z"
   },
   {
    "duration": 27,
    "start_time": "2022-09-11T14:17:12.154Z"
   },
   {
    "duration": 87,
    "start_time": "2022-09-11T14:17:12.183Z"
   },
   {
    "duration": 36,
    "start_time": "2022-09-11T14:17:12.273Z"
   },
   {
    "duration": 22,
    "start_time": "2022-09-11T14:17:12.322Z"
   },
   {
    "duration": 53,
    "start_time": "2022-09-11T14:17:12.346Z"
   },
   {
    "duration": 0,
    "start_time": "2022-09-11T14:17:12.402Z"
   },
   {
    "duration": 0,
    "start_time": "2022-09-11T14:17:12.403Z"
   },
   {
    "duration": 0,
    "start_time": "2022-09-11T14:17:12.404Z"
   },
   {
    "duration": 0,
    "start_time": "2022-09-11T14:17:12.406Z"
   },
   {
    "duration": 0,
    "start_time": "2022-09-11T14:17:12.407Z"
   },
   {
    "duration": 0,
    "start_time": "2022-09-11T14:17:12.408Z"
   },
   {
    "duration": 17,
    "start_time": "2022-09-11T14:18:59.519Z"
   },
   {
    "duration": 17,
    "start_time": "2022-09-11T14:19:06.144Z"
   },
   {
    "duration": 16,
    "start_time": "2022-09-11T14:19:09.753Z"
   },
   {
    "duration": 105,
    "start_time": "2022-09-11T14:19:33.518Z"
   },
   {
    "duration": 23,
    "start_time": "2022-09-11T14:19:47.662Z"
   },
   {
    "duration": 4,
    "start_time": "2022-09-11T14:20:05.057Z"
   },
   {
    "duration": 374,
    "start_time": "2022-09-11T14:20:05.063Z"
   },
   {
    "duration": 25,
    "start_time": "2022-09-11T14:20:05.438Z"
   },
   {
    "duration": 76,
    "start_time": "2022-09-11T14:20:05.465Z"
   },
   {
    "duration": 38,
    "start_time": "2022-09-11T14:20:05.543Z"
   },
   {
    "duration": 17,
    "start_time": "2022-09-11T14:20:05.582Z"
   },
   {
    "duration": 13,
    "start_time": "2022-09-11T14:20:05.623Z"
   },
   {
    "duration": 16,
    "start_time": "2022-09-11T14:20:05.637Z"
   },
   {
    "duration": 205,
    "start_time": "2022-09-11T14:20:05.654Z"
   },
   {
    "duration": 74,
    "start_time": "2022-09-11T14:20:05.861Z"
   },
   {
    "duration": 36,
    "start_time": "2022-09-11T14:20:05.937Z"
   },
   {
    "duration": 68,
    "start_time": "2022-09-11T14:20:05.975Z"
   },
   {
    "duration": 57,
    "start_time": "2022-09-11T14:20:06.045Z"
   },
   {
    "duration": 58,
    "start_time": "2022-09-11T14:20:06.104Z"
   },
   {
    "duration": 3,
    "start_time": "2022-09-11T14:21:12.869Z"
   },
   {
    "duration": 374,
    "start_time": "2022-09-11T14:21:12.874Z"
   },
   {
    "duration": 25,
    "start_time": "2022-09-11T14:21:13.250Z"
   },
   {
    "duration": 69,
    "start_time": "2022-09-11T14:21:13.276Z"
   },
   {
    "duration": 35,
    "start_time": "2022-09-11T14:21:13.347Z"
   },
   {
    "duration": 17,
    "start_time": "2022-09-11T14:21:13.384Z"
   },
   {
    "duration": 29,
    "start_time": "2022-09-11T14:21:13.402Z"
   },
   {
    "duration": 46,
    "start_time": "2022-09-11T14:21:13.432Z"
   },
   {
    "duration": 76,
    "start_time": "2022-09-11T14:21:13.480Z"
   },
   {
    "duration": 42,
    "start_time": "2022-09-11T14:21:13.558Z"
   },
   {
    "duration": 71,
    "start_time": "2022-09-11T14:21:13.601Z"
   },
   {
    "duration": 63,
    "start_time": "2022-09-11T14:21:13.673Z"
   },
   {
    "duration": 38,
    "start_time": "2022-09-11T14:21:13.738Z"
   },
   {
    "duration": 48,
    "start_time": "2022-09-11T14:21:13.778Z"
   },
   {
    "duration": 66,
    "start_time": "2022-09-11T14:22:21.827Z"
   },
   {
    "duration": 3,
    "start_time": "2022-09-11T14:22:31.732Z"
   },
   {
    "duration": 377,
    "start_time": "2022-09-11T14:22:31.738Z"
   },
   {
    "duration": 28,
    "start_time": "2022-09-11T14:22:32.116Z"
   },
   {
    "duration": 80,
    "start_time": "2022-09-11T14:22:32.145Z"
   },
   {
    "duration": 41,
    "start_time": "2022-09-11T14:22:32.227Z"
   },
   {
    "duration": 17,
    "start_time": "2022-09-11T14:22:32.270Z"
   },
   {
    "duration": 11,
    "start_time": "2022-09-11T14:22:32.289Z"
   },
   {
    "duration": 47,
    "start_time": "2022-09-11T14:22:32.322Z"
   },
   {
    "duration": 74,
    "start_time": "2022-09-11T14:22:32.371Z"
   },
   {
    "duration": 41,
    "start_time": "2022-09-11T14:22:32.447Z"
   },
   {
    "duration": 56,
    "start_time": "2022-09-11T14:22:32.489Z"
   },
   {
    "duration": 47,
    "start_time": "2022-09-11T14:22:32.546Z"
   },
   {
    "duration": 50,
    "start_time": "2022-09-11T14:22:32.595Z"
   },
   {
    "duration": 80,
    "start_time": "2022-09-11T14:22:32.646Z"
   },
   {
    "duration": 25,
    "start_time": "2022-09-11T14:24:08.105Z"
   },
   {
    "duration": 13,
    "start_time": "2022-09-11T14:26:11.960Z"
   },
   {
    "duration": 20,
    "start_time": "2022-09-11T14:28:05.428Z"
   },
   {
    "duration": 3,
    "start_time": "2022-09-11T14:28:20.159Z"
   },
   {
    "duration": 357,
    "start_time": "2022-09-11T14:28:20.164Z"
   },
   {
    "duration": 32,
    "start_time": "2022-09-11T14:28:20.523Z"
   },
   {
    "duration": 84,
    "start_time": "2022-09-11T14:28:20.557Z"
   },
   {
    "duration": 36,
    "start_time": "2022-09-11T14:28:20.643Z"
   },
   {
    "duration": 17,
    "start_time": "2022-09-11T14:28:20.681Z"
   },
   {
    "duration": 35,
    "start_time": "2022-09-11T14:28:20.700Z"
   },
   {
    "duration": 56,
    "start_time": "2022-09-11T14:28:20.737Z"
   },
   {
    "duration": 59,
    "start_time": "2022-09-11T14:28:20.795Z"
   },
   {
    "duration": 69,
    "start_time": "2022-09-11T14:28:20.856Z"
   },
   {
    "duration": 19,
    "start_time": "2022-09-11T14:28:20.927Z"
   },
   {
    "duration": 13,
    "start_time": "2022-09-11T14:28:20.947Z"
   },
   {
    "duration": 73,
    "start_time": "2022-09-11T14:28:20.962Z"
   },
   {
    "duration": 66,
    "start_time": "2022-09-11T14:28:21.039Z"
   },
   {
    "duration": 70,
    "start_time": "2022-09-11T14:28:21.108Z"
   },
   {
    "duration": 43,
    "start_time": "2022-09-11T14:28:21.181Z"
   },
   {
    "duration": 101,
    "start_time": "2022-09-11T14:28:21.226Z"
   },
   {
    "duration": 23,
    "start_time": "2022-09-11T14:35:11.044Z"
   },
   {
    "duration": 17,
    "start_time": "2022-09-11T14:35:13.876Z"
   },
   {
    "duration": 23,
    "start_time": "2022-09-11T14:36:21.761Z"
   },
   {
    "duration": 15,
    "start_time": "2022-09-11T14:39:54.830Z"
   },
   {
    "duration": 17,
    "start_time": "2022-09-11T14:41:44.606Z"
   },
   {
    "duration": 4,
    "start_time": "2022-09-11T14:41:54.498Z"
   },
   {
    "duration": 414,
    "start_time": "2022-09-11T14:41:54.504Z"
   },
   {
    "duration": 25,
    "start_time": "2022-09-11T14:41:54.921Z"
   },
   {
    "duration": 75,
    "start_time": "2022-09-11T14:41:54.947Z"
   },
   {
    "duration": 44,
    "start_time": "2022-09-11T14:41:55.024Z"
   },
   {
    "duration": 24,
    "start_time": "2022-09-11T14:41:55.070Z"
   },
   {
    "duration": 41,
    "start_time": "2022-09-11T14:41:55.096Z"
   },
   {
    "duration": 91,
    "start_time": "2022-09-11T14:41:55.140Z"
   },
   {
    "duration": 50,
    "start_time": "2022-09-11T14:41:55.233Z"
   },
   {
    "duration": 59,
    "start_time": "2022-09-11T14:41:55.284Z"
   },
   {
    "duration": 18,
    "start_time": "2022-09-11T14:41:55.344Z"
   },
   {
    "duration": 13,
    "start_time": "2022-09-11T14:41:55.364Z"
   },
   {
    "duration": 68,
    "start_time": "2022-09-11T14:41:55.378Z"
   },
   {
    "duration": 46,
    "start_time": "2022-09-11T14:41:55.449Z"
   },
   {
    "duration": 58,
    "start_time": "2022-09-11T14:41:55.497Z"
   },
   {
    "duration": 18,
    "start_time": "2022-09-11T14:41:55.556Z"
   },
   {
    "duration": 13,
    "start_time": "2022-09-11T14:41:55.576Z"
   },
   {
    "duration": 137,
    "start_time": "2022-09-11T14:41:55.590Z"
   },
   {
    "duration": 103,
    "start_time": "2022-09-11T14:41:55.729Z"
   },
   {
    "duration": 193,
    "start_time": "2022-09-11T14:41:55.834Z"
   },
   {
    "duration": 5,
    "start_time": "2022-09-11T14:43:31.109Z"
   },
   {
    "duration": 13,
    "start_time": "2022-09-11T16:45:10.040Z"
   },
   {
    "duration": 16,
    "start_time": "2022-09-11T16:47:42.214Z"
   },
   {
    "duration": 12,
    "start_time": "2022-09-11T16:49:09.148Z"
   },
   {
    "duration": 6,
    "start_time": "2022-09-11T16:49:19.357Z"
   },
   {
    "duration": 4,
    "start_time": "2022-09-11T16:49:30.377Z"
   },
   {
    "duration": 366,
    "start_time": "2022-09-11T16:49:30.382Z"
   },
   {
    "duration": 32,
    "start_time": "2022-09-11T16:49:30.749Z"
   },
   {
    "duration": 75,
    "start_time": "2022-09-11T16:49:30.782Z"
   },
   {
    "duration": 46,
    "start_time": "2022-09-11T16:49:30.859Z"
   },
   {
    "duration": 28,
    "start_time": "2022-09-11T16:49:30.906Z"
   },
   {
    "duration": 23,
    "start_time": "2022-09-11T16:49:30.935Z"
   },
   {
    "duration": 63,
    "start_time": "2022-09-11T16:49:30.960Z"
   },
   {
    "duration": 6,
    "start_time": "2022-09-11T16:49:31.024Z"
   },
   {
    "duration": 62,
    "start_time": "2022-09-11T16:49:31.032Z"
   },
   {
    "duration": 64,
    "start_time": "2022-09-11T16:49:31.096Z"
   },
   {
    "duration": 18,
    "start_time": "2022-09-11T16:49:31.161Z"
   },
   {
    "duration": 25,
    "start_time": "2022-09-11T16:49:31.181Z"
   },
   {
    "duration": 58,
    "start_time": "2022-09-11T16:49:31.209Z"
   },
   {
    "duration": 17,
    "start_time": "2022-09-11T16:49:31.269Z"
   },
   {
    "duration": 89,
    "start_time": "2022-09-11T16:49:31.288Z"
   },
   {
    "duration": 55,
    "start_time": "2022-09-11T16:49:31.379Z"
   },
   {
    "duration": 18,
    "start_time": "2022-09-11T16:49:31.435Z"
   },
   {
    "duration": 12,
    "start_time": "2022-09-11T16:49:31.454Z"
   },
   {
    "duration": 58,
    "start_time": "2022-09-11T16:49:31.468Z"
   },
   {
    "duration": 107,
    "start_time": "2022-09-11T16:49:31.528Z"
   },
   {
    "duration": 286,
    "start_time": "2022-09-11T16:49:31.637Z"
   },
   {
    "duration": 16,
    "start_time": "2022-09-11T16:50:34.104Z"
   },
   {
    "duration": 23,
    "start_time": "2022-09-11T16:50:41.815Z"
   },
   {
    "duration": 18,
    "start_time": "2022-09-11T16:50:49.668Z"
   },
   {
    "duration": 11,
    "start_time": "2022-09-11T16:51:13.548Z"
   },
   {
    "duration": 7,
    "start_time": "2022-09-11T16:51:27.749Z"
   },
   {
    "duration": 11,
    "start_time": "2022-09-11T16:53:38.340Z"
   },
   {
    "duration": 13,
    "start_time": "2022-09-11T16:54:21.691Z"
   },
   {
    "duration": 12,
    "start_time": "2022-09-11T16:55:37.859Z"
   },
   {
    "duration": 549,
    "start_time": "2022-09-11T16:59:38.895Z"
   },
   {
    "duration": 177,
    "start_time": "2022-09-11T16:59:53.033Z"
   },
   {
    "duration": 154,
    "start_time": "2022-09-11T17:00:41.572Z"
   },
   {
    "duration": 86,
    "start_time": "2022-09-11T17:02:31.876Z"
   },
   {
    "duration": 58,
    "start_time": "2022-09-11T17:03:33.546Z"
   },
   {
    "duration": 156,
    "start_time": "2022-09-11T17:03:47.705Z"
   },
   {
    "duration": 149,
    "start_time": "2022-09-11T17:04:29.481Z"
   },
   {
    "duration": 228,
    "start_time": "2022-09-11T17:04:54.704Z"
   },
   {
    "duration": 1494,
    "start_time": "2022-09-21T10:57:26.980Z"
   },
   {
    "duration": 250,
    "start_time": "2022-09-21T10:58:26.376Z"
   },
   {
    "duration": 892,
    "start_time": "2022-09-21T11:02:17.662Z"
   },
   {
    "duration": 44,
    "start_time": "2022-09-21T12:19:09.529Z"
   },
   {
    "duration": 155,
    "start_time": "2022-09-21T12:20:07.736Z"
   },
   {
    "duration": 113,
    "start_time": "2022-09-21T12:20:35.580Z"
   },
   {
    "duration": 37,
    "start_time": "2022-09-21T12:21:38.221Z"
   },
   {
    "duration": 179,
    "start_time": "2022-09-21T12:22:32.124Z"
   },
   {
    "duration": 103,
    "start_time": "2022-09-21T12:23:00.198Z"
   },
   {
    "duration": 23,
    "start_time": "2022-09-21T12:24:06.967Z"
   },
   {
    "duration": 149,
    "start_time": "2022-09-21T12:24:41.126Z"
   },
   {
    "duration": 122,
    "start_time": "2022-09-21T12:25:13.732Z"
   },
   {
    "duration": 101,
    "start_time": "2022-09-21T12:29:43.099Z"
   },
   {
    "duration": 24,
    "start_time": "2022-09-21T12:30:23.099Z"
   },
   {
    "duration": 19,
    "start_time": "2022-09-21T12:30:55.321Z"
   },
   {
    "duration": 17,
    "start_time": "2022-09-21T12:31:16.332Z"
   },
   {
    "duration": 3,
    "start_time": "2022-09-21T12:32:22.957Z"
   },
   {
    "duration": 372,
    "start_time": "2022-09-21T12:32:22.963Z"
   },
   {
    "duration": 26,
    "start_time": "2022-09-21T12:32:23.338Z"
   },
   {
    "duration": 188,
    "start_time": "2022-09-21T12:32:23.366Z"
   },
   {
    "duration": 136,
    "start_time": "2022-09-21T12:32:23.557Z"
   },
   {
    "duration": 45,
    "start_time": "2022-09-21T12:32:23.695Z"
   },
   {
    "duration": 207,
    "start_time": "2022-09-21T12:32:23.742Z"
   },
   {
    "duration": 100,
    "start_time": "2022-09-21T12:32:23.950Z"
   },
   {
    "duration": 30,
    "start_time": "2022-09-21T12:32:24.052Z"
   },
   {
    "duration": 243,
    "start_time": "2022-09-21T12:32:24.084Z"
   },
   {
    "duration": 109,
    "start_time": "2022-09-21T12:32:24.328Z"
   },
   {
    "duration": 131,
    "start_time": "2022-09-21T12:32:24.439Z"
   },
   {
    "duration": 23,
    "start_time": "2022-09-21T12:32:24.572Z"
   },
   {
    "duration": 22,
    "start_time": "2022-09-21T12:32:24.610Z"
   },
   {
    "duration": 21,
    "start_time": "2022-09-21T12:32:24.634Z"
   },
   {
    "duration": 13,
    "start_time": "2022-09-21T12:37:11.070Z"
   },
   {
    "duration": 4,
    "start_time": "2022-09-21T12:37:54.004Z"
   },
   {
    "duration": 18,
    "start_time": "2022-09-21T12:38:49.714Z"
   },
   {
    "duration": 15,
    "start_time": "2022-09-21T12:41:02.244Z"
   },
   {
    "duration": 4,
    "start_time": "2022-09-21T12:41:44.047Z"
   },
   {
    "duration": 3,
    "start_time": "2022-09-21T12:42:09.631Z"
   },
   {
    "duration": 21,
    "start_time": "2022-09-21T12:42:31.955Z"
   },
   {
    "duration": 5,
    "start_time": "2022-09-21T12:43:27.150Z"
   },
   {
    "duration": 202,
    "start_time": "2022-09-21T12:45:29.212Z"
   },
   {
    "duration": 17,
    "start_time": "2022-09-21T12:46:13.333Z"
   },
   {
    "duration": 18,
    "start_time": "2022-09-21T12:46:58.603Z"
   },
   {
    "duration": 55,
    "start_time": "2022-09-21T12:47:48.674Z"
   },
   {
    "duration": 3,
    "start_time": "2022-09-21T12:51:47.592Z"
   },
   {
    "duration": 4,
    "start_time": "2022-09-21T12:53:03.147Z"
   },
   {
    "duration": 189,
    "start_time": "2022-09-21T12:53:48.832Z"
   },
   {
    "duration": 7,
    "start_time": "2022-09-21T13:05:20.507Z"
   },
   {
    "duration": 8,
    "start_time": "2022-09-21T13:05:54.253Z"
   },
   {
    "duration": 6,
    "start_time": "2022-09-21T13:06:16.723Z"
   },
   {
    "duration": 4,
    "start_time": "2022-09-21T13:07:40.894Z"
   },
   {
    "duration": 56,
    "start_time": "2022-09-21T13:08:02.403Z"
   },
   {
    "duration": 20,
    "start_time": "2022-09-21T13:09:05.643Z"
   },
   {
    "duration": 21,
    "start_time": "2022-09-21T13:09:56.323Z"
   },
   {
    "duration": 25,
    "start_time": "2022-09-21T13:10:49.144Z"
   },
   {
    "duration": 156,
    "start_time": "2022-09-21T13:11:10.011Z"
   },
   {
    "duration": 1113,
    "start_time": "2022-09-21T13:13:59.789Z"
   },
   {
    "duration": 1076,
    "start_time": "2022-09-21T13:14:55.168Z"
   },
   {
    "duration": 1123,
    "start_time": "2022-09-21T13:15:29.825Z"
   },
   {
    "duration": 1052,
    "start_time": "2022-09-21T13:55:46.860Z"
   },
   {
    "duration": 1034,
    "start_time": "2022-09-21T13:57:01.477Z"
   },
   {
    "duration": 1044,
    "start_time": "2022-09-21T13:57:23.106Z"
   },
   {
    "duration": 86,
    "start_time": "2022-09-21T14:16:23.417Z"
   },
   {
    "duration": 1037,
    "start_time": "2022-09-21T14:16:49.885Z"
   },
   {
    "duration": 1069,
    "start_time": "2022-09-21T14:20:48.678Z"
   },
   {
    "duration": 1137,
    "start_time": "2022-09-21T14:21:07.028Z"
   },
   {
    "duration": 1022,
    "start_time": "2022-09-21T14:21:56.992Z"
   },
   {
    "duration": 1084,
    "start_time": "2022-09-21T14:26:45.178Z"
   },
   {
    "duration": 1187,
    "start_time": "2022-09-21T14:27:42.792Z"
   },
   {
    "duration": 1089,
    "start_time": "2022-09-21T14:28:00.884Z"
   },
   {
    "duration": 1074,
    "start_time": "2022-09-21T14:28:15.304Z"
   },
   {
    "duration": 14,
    "start_time": "2022-09-21T14:31:25.198Z"
   },
   {
    "duration": 8,
    "start_time": "2022-09-21T14:33:21.978Z"
   },
   {
    "duration": 1019,
    "start_time": "2022-09-21T14:45:38.576Z"
   },
   {
    "duration": 11,
    "start_time": "2022-09-21T14:45:46.046Z"
   },
   {
    "duration": 3,
    "start_time": "2022-09-21T14:58:33.481Z"
   },
   {
    "duration": 444,
    "start_time": "2022-09-21T14:58:33.486Z"
   },
   {
    "duration": 26,
    "start_time": "2022-09-21T14:58:33.932Z"
   },
   {
    "duration": 198,
    "start_time": "2022-09-21T14:58:33.960Z"
   },
   {
    "duration": 113,
    "start_time": "2022-09-21T14:58:34.160Z"
   },
   {
    "duration": 44,
    "start_time": "2022-09-21T14:58:34.275Z"
   },
   {
    "duration": 196,
    "start_time": "2022-09-21T14:58:34.321Z"
   },
   {
    "duration": 138,
    "start_time": "2022-09-21T14:58:34.520Z"
   },
   {
    "duration": 49,
    "start_time": "2022-09-21T14:58:34.660Z"
   },
   {
    "duration": 207,
    "start_time": "2022-09-21T14:58:34.712Z"
   },
   {
    "duration": 101,
    "start_time": "2022-09-21T14:58:34.920Z"
   },
   {
    "duration": 118,
    "start_time": "2022-09-21T14:58:35.023Z"
   },
   {
    "duration": 20,
    "start_time": "2022-09-21T14:58:35.144Z"
   },
   {
    "duration": 21,
    "start_time": "2022-09-21T14:58:35.165Z"
   },
   {
    "duration": 42,
    "start_time": "2022-09-21T14:58:35.188Z"
   },
   {
    "duration": 15,
    "start_time": "2022-09-21T14:58:35.231Z"
   },
   {
    "duration": 9,
    "start_time": "2022-09-21T14:58:35.248Z"
   },
   {
    "duration": 24,
    "start_time": "2022-09-21T14:58:35.259Z"
   },
   {
    "duration": 24,
    "start_time": "2022-09-21T14:58:35.285Z"
   },
   {
    "duration": 17,
    "start_time": "2022-09-21T14:58:35.311Z"
   },
   {
    "duration": 5,
    "start_time": "2022-09-21T14:58:35.330Z"
   },
   {
    "duration": 78,
    "start_time": "2022-09-21T14:58:35.336Z"
   },
   {
    "duration": 194,
    "start_time": "2022-09-21T14:58:35.416Z"
   },
   {
    "duration": 103,
    "start_time": "2022-09-21T14:58:35.612Z"
   },
   {
    "duration": 207,
    "start_time": "2022-09-21T14:58:35.717Z"
   },
   {
    "duration": 8,
    "start_time": "2022-09-21T14:58:35.925Z"
   },
   {
    "duration": 7,
    "start_time": "2022-09-21T14:58:35.934Z"
   },
   {
    "duration": 176,
    "start_time": "2022-09-21T14:58:35.942Z"
   },
   {
    "duration": 8,
    "start_time": "2022-09-21T14:58:36.120Z"
   },
   {
    "duration": 14,
    "start_time": "2022-09-21T14:58:36.129Z"
   },
   {
    "duration": 6,
    "start_time": "2022-09-21T14:58:36.145Z"
   },
   {
    "duration": 8,
    "start_time": "2022-09-21T14:58:36.152Z"
   },
   {
    "duration": 24,
    "start_time": "2022-09-21T14:58:36.162Z"
   },
   {
    "duration": 55,
    "start_time": "2022-09-21T14:58:36.188Z"
   },
   {
    "duration": 27,
    "start_time": "2022-09-21T14:58:36.245Z"
   },
   {
    "duration": 300,
    "start_time": "2022-09-21T14:58:36.274Z"
   },
   {
    "duration": 1083,
    "start_time": "2022-09-21T14:58:36.577Z"
   },
   {
    "duration": 1101,
    "start_time": "2022-09-21T14:58:37.663Z"
   },
   {
    "duration": 1070,
    "start_time": "2022-09-21T14:58:38.765Z"
   },
   {
    "duration": 8,
    "start_time": "2022-09-21T14:58:39.836Z"
   },
   {
    "duration": 3,
    "start_time": "2022-09-21T14:59:31.357Z"
   },
   {
    "duration": 338,
    "start_time": "2022-09-21T14:59:31.362Z"
   },
   {
    "duration": 25,
    "start_time": "2022-09-21T14:59:31.701Z"
   },
   {
    "duration": 153,
    "start_time": "2022-09-21T14:59:31.727Z"
   },
   {
    "duration": 101,
    "start_time": "2022-09-21T14:59:31.882Z"
   },
   {
    "duration": 29,
    "start_time": "2022-09-21T14:59:31.984Z"
   },
   {
    "duration": 155,
    "start_time": "2022-09-21T14:59:32.015Z"
   },
   {
    "duration": 94,
    "start_time": "2022-09-21T14:59:32.172Z"
   },
   {
    "duration": 22,
    "start_time": "2022-09-21T14:59:32.268Z"
   },
   {
    "duration": 161,
    "start_time": "2022-09-21T14:59:32.292Z"
   },
   {
    "duration": 102,
    "start_time": "2022-09-21T14:59:32.455Z"
   },
   {
    "duration": 108,
    "start_time": "2022-09-21T14:59:32.559Z"
   },
   {
    "duration": 18,
    "start_time": "2022-09-21T14:59:32.669Z"
   },
   {
    "duration": 34,
    "start_time": "2022-09-21T14:59:32.691Z"
   },
   {
    "duration": 19,
    "start_time": "2022-09-21T14:59:32.726Z"
   },
   {
    "duration": 13,
    "start_time": "2022-09-21T14:59:32.747Z"
   },
   {
    "duration": 6,
    "start_time": "2022-09-21T14:59:32.762Z"
   },
   {
    "duration": 45,
    "start_time": "2022-09-21T14:59:32.770Z"
   },
   {
    "duration": 4,
    "start_time": "2022-09-21T14:59:32.817Z"
   },
   {
    "duration": 17,
    "start_time": "2022-09-21T14:59:32.822Z"
   },
   {
    "duration": 7,
    "start_time": "2022-09-21T14:59:32.841Z"
   },
   {
    "duration": 65,
    "start_time": "2022-09-21T14:59:32.849Z"
   },
   {
    "duration": 109,
    "start_time": "2022-09-21T14:59:32.916Z"
   },
   {
    "duration": 183,
    "start_time": "2022-09-21T14:59:33.027Z"
   },
   {
    "duration": 104,
    "start_time": "2022-09-21T14:59:33.212Z"
   },
   {
    "duration": 3,
    "start_time": "2022-09-21T14:59:33.317Z"
   },
   {
    "duration": 26,
    "start_time": "2022-09-21T14:59:33.321Z"
   },
   {
    "duration": 131,
    "start_time": "2022-09-21T14:59:33.349Z"
   },
   {
    "duration": 5,
    "start_time": "2022-09-21T14:59:33.482Z"
   },
   {
    "duration": 9,
    "start_time": "2022-09-21T14:59:33.488Z"
   },
   {
    "duration": 15,
    "start_time": "2022-09-21T14:59:33.498Z"
   },
   {
    "duration": 3,
    "start_time": "2022-09-21T14:59:33.515Z"
   },
   {
    "duration": 26,
    "start_time": "2022-09-21T14:59:33.519Z"
   },
   {
    "duration": 24,
    "start_time": "2022-09-21T14:59:33.548Z"
   },
   {
    "duration": 46,
    "start_time": "2022-09-21T14:59:33.574Z"
   },
   {
    "duration": 162,
    "start_time": "2022-09-21T14:59:33.622Z"
   },
   {
    "duration": 1107,
    "start_time": "2022-09-21T14:59:33.786Z"
   },
   {
    "duration": 1049,
    "start_time": "2022-09-21T14:59:34.895Z"
   },
   {
    "duration": 1130,
    "start_time": "2022-09-21T14:59:35.945Z"
   },
   {
    "duration": 9,
    "start_time": "2022-09-21T14:59:37.077Z"
   },
   {
    "duration": 3,
    "start_time": "2022-09-21T16:56:09.076Z"
   },
   {
    "duration": 340,
    "start_time": "2022-09-21T16:56:09.080Z"
   },
   {
    "duration": 24,
    "start_time": "2022-09-21T16:56:09.422Z"
   },
   {
    "duration": 152,
    "start_time": "2022-09-21T16:56:09.448Z"
   },
   {
    "duration": 85,
    "start_time": "2022-09-21T16:56:09.608Z"
   },
   {
    "duration": 33,
    "start_time": "2022-09-21T16:56:09.695Z"
   },
   {
    "duration": 155,
    "start_time": "2022-09-21T16:56:09.730Z"
   },
   {
    "duration": 93,
    "start_time": "2022-09-21T16:56:09.886Z"
   },
   {
    "duration": 28,
    "start_time": "2022-09-21T16:56:09.981Z"
   },
   {
    "duration": 155,
    "start_time": "2022-09-21T16:56:10.010Z"
   },
   {
    "duration": 100,
    "start_time": "2022-09-21T16:56:10.167Z"
   },
   {
    "duration": 106,
    "start_time": "2022-09-21T16:56:10.268Z"
   },
   {
    "duration": 17,
    "start_time": "2022-09-21T16:56:10.377Z"
   },
   {
    "duration": 28,
    "start_time": "2022-09-21T16:56:10.396Z"
   },
   {
    "duration": 16,
    "start_time": "2022-09-21T16:56:10.425Z"
   },
   {
    "duration": 11,
    "start_time": "2022-09-21T16:56:10.443Z"
   },
   {
    "duration": 5,
    "start_time": "2022-09-21T16:56:10.455Z"
   },
   {
    "duration": 29,
    "start_time": "2022-09-21T16:56:10.461Z"
   },
   {
    "duration": 27,
    "start_time": "2022-09-21T16:56:10.492Z"
   },
   {
    "duration": 18,
    "start_time": "2022-09-21T16:56:10.520Z"
   },
   {
    "duration": 7,
    "start_time": "2022-09-21T16:56:10.540Z"
   },
   {
    "duration": 60,
    "start_time": "2022-09-21T16:56:10.548Z"
   },
   {
    "duration": 112,
    "start_time": "2022-09-21T16:56:10.610Z"
   },
   {
    "duration": 186,
    "start_time": "2022-09-21T16:56:10.724Z"
   },
   {
    "duration": 109,
    "start_time": "2022-09-21T16:56:10.912Z"
   },
   {
    "duration": 3,
    "start_time": "2022-09-21T16:56:11.023Z"
   },
   {
    "duration": 6,
    "start_time": "2022-09-21T16:56:11.028Z"
   },
   {
    "duration": 156,
    "start_time": "2022-09-21T16:56:11.035Z"
   },
   {
    "duration": 6,
    "start_time": "2022-09-21T16:56:11.192Z"
   },
   {
    "duration": 9,
    "start_time": "2022-09-21T16:56:11.208Z"
   },
   {
    "duration": 6,
    "start_time": "2022-09-21T16:56:11.218Z"
   },
   {
    "duration": 4,
    "start_time": "2022-09-21T16:56:11.226Z"
   },
   {
    "duration": 29,
    "start_time": "2022-09-21T16:56:11.232Z"
   },
   {
    "duration": 20,
    "start_time": "2022-09-21T16:56:11.263Z"
   },
   {
    "duration": 18,
    "start_time": "2022-09-21T16:56:11.309Z"
   },
   {
    "duration": 153,
    "start_time": "2022-09-21T16:56:11.328Z"
   },
   {
    "duration": 1066,
    "start_time": "2022-09-21T16:56:11.484Z"
   },
   {
    "duration": 1034,
    "start_time": "2022-09-21T16:56:12.551Z"
   },
   {
    "duration": 1086,
    "start_time": "2022-09-21T16:56:13.586Z"
   },
   {
    "duration": 8,
    "start_time": "2022-09-21T16:56:14.674Z"
   },
   {
    "duration": 4,
    "start_time": "2022-09-21T16:56:46.607Z"
   },
   {
    "duration": 337,
    "start_time": "2022-09-21T16:56:46.613Z"
   },
   {
    "duration": 24,
    "start_time": "2022-09-21T16:56:46.952Z"
   },
   {
    "duration": 163,
    "start_time": "2022-09-21T16:56:46.977Z"
   },
   {
    "duration": 99,
    "start_time": "2022-09-21T16:56:47.142Z"
   },
   {
    "duration": 24,
    "start_time": "2022-09-21T16:56:47.242Z"
   },
   {
    "duration": 172,
    "start_time": "2022-09-21T16:56:47.268Z"
   },
   {
    "duration": 88,
    "start_time": "2022-09-21T16:56:47.442Z"
   },
   {
    "duration": 24,
    "start_time": "2022-09-21T16:56:47.532Z"
   },
   {
    "duration": 222,
    "start_time": "2022-09-21T16:56:47.557Z"
   },
   {
    "duration": 94,
    "start_time": "2022-09-21T16:56:47.781Z"
   },
   {
    "duration": 96,
    "start_time": "2022-09-21T16:56:47.877Z"
   },
   {
    "duration": 16,
    "start_time": "2022-09-21T16:56:47.975Z"
   },
   {
    "duration": 30,
    "start_time": "2022-09-21T16:56:47.994Z"
   },
   {
    "duration": 16,
    "start_time": "2022-09-21T16:56:48.025Z"
   },
   {
    "duration": 12,
    "start_time": "2022-09-21T16:56:48.042Z"
   },
   {
    "duration": 17,
    "start_time": "2022-09-21T16:56:48.055Z"
   },
   {
    "duration": 19,
    "start_time": "2022-09-21T16:56:48.073Z"
   },
   {
    "duration": 20,
    "start_time": "2022-09-21T16:56:48.093Z"
   },
   {
    "duration": 23,
    "start_time": "2022-09-21T16:56:48.114Z"
   },
   {
    "duration": 4,
    "start_time": "2022-09-21T16:56:48.138Z"
   },
   {
    "duration": 74,
    "start_time": "2022-09-21T16:56:48.144Z"
   },
   {
    "duration": 107,
    "start_time": "2022-09-21T16:56:48.219Z"
   },
   {
    "duration": 107,
    "start_time": "2022-09-21T16:56:48.409Z"
   },
   {
    "duration": 208,
    "start_time": "2022-09-21T16:56:48.517Z"
   },
   {
    "duration": 2,
    "start_time": "2022-09-21T16:56:48.727Z"
   },
   {
    "duration": 5,
    "start_time": "2022-09-21T16:56:48.731Z"
   },
   {
    "duration": 139,
    "start_time": "2022-09-21T16:56:48.737Z"
   },
   {
    "duration": 6,
    "start_time": "2022-09-21T16:56:48.877Z"
   },
   {
    "duration": 10,
    "start_time": "2022-09-21T16:56:48.884Z"
   },
   {
    "duration": 13,
    "start_time": "2022-09-21T16:56:48.896Z"
   },
   {
    "duration": 5,
    "start_time": "2022-09-21T16:56:48.910Z"
   },
   {
    "duration": 20,
    "start_time": "2022-09-21T16:56:48.916Z"
   },
   {
    "duration": 19,
    "start_time": "2022-09-21T16:56:48.937Z"
   },
   {
    "duration": 19,
    "start_time": "2022-09-21T16:56:48.958Z"
   },
   {
    "duration": 190,
    "start_time": "2022-09-21T16:56:48.978Z"
   },
   {
    "duration": 1012,
    "start_time": "2022-09-21T16:56:49.169Z"
   },
   {
    "duration": 1031,
    "start_time": "2022-09-21T16:56:50.182Z"
   },
   {
    "duration": 1029,
    "start_time": "2022-09-21T16:56:51.215Z"
   },
   {
    "duration": 8,
    "start_time": "2022-09-21T16:56:52.246Z"
   },
   {
    "duration": 21,
    "start_time": "2022-09-21T17:02:24.105Z"
   },
   {
    "duration": 17,
    "start_time": "2022-09-21T17:03:29.825Z"
   },
   {
    "duration": 16,
    "start_time": "2022-09-21T17:03:43.546Z"
   },
   {
    "duration": 3,
    "start_time": "2022-09-21T17:05:03.848Z"
   },
   {
    "duration": 323,
    "start_time": "2022-09-21T17:05:03.853Z"
   },
   {
    "duration": 25,
    "start_time": "2022-09-21T17:05:04.178Z"
   },
   {
    "duration": 145,
    "start_time": "2022-09-21T17:05:04.208Z"
   },
   {
    "duration": 130,
    "start_time": "2022-09-21T17:05:04.355Z"
   },
   {
    "duration": 37,
    "start_time": "2022-09-21T17:05:04.487Z"
   },
   {
    "duration": 185,
    "start_time": "2022-09-21T17:05:04.526Z"
   },
   {
    "duration": 98,
    "start_time": "2022-09-21T17:05:04.713Z"
   },
   {
    "duration": 25,
    "start_time": "2022-09-21T17:05:04.814Z"
   },
   {
    "duration": 154,
    "start_time": "2022-09-21T17:05:04.840Z"
   },
   {
    "duration": 97,
    "start_time": "2022-09-21T17:05:04.996Z"
   },
   {
    "duration": 104,
    "start_time": "2022-09-21T17:05:05.095Z"
   },
   {
    "duration": 22,
    "start_time": "2022-09-21T17:05:05.200Z"
   },
   {
    "duration": 14,
    "start_time": "2022-09-21T17:05:05.224Z"
   },
   {
    "duration": 19,
    "start_time": "2022-09-21T17:05:05.239Z"
   },
   {
    "duration": 15,
    "start_time": "2022-09-21T17:05:05.259Z"
   },
   {
    "duration": 36,
    "start_time": "2022-09-21T17:05:05.276Z"
   },
   {
    "duration": 12,
    "start_time": "2022-09-21T17:05:05.314Z"
   },
   {
    "duration": 4,
    "start_time": "2022-09-21T17:05:05.328Z"
   },
   {
    "duration": 14,
    "start_time": "2022-09-21T17:05:05.334Z"
   },
   {
    "duration": 4,
    "start_time": "2022-09-21T17:05:05.349Z"
   },
   {
    "duration": 61,
    "start_time": "2022-09-21T17:05:05.354Z"
   },
   {
    "duration": 107,
    "start_time": "2022-09-21T17:05:05.416Z"
   },
   {
    "duration": 201,
    "start_time": "2022-09-21T17:05:05.526Z"
   },
   {
    "duration": 186,
    "start_time": "2022-09-21T17:05:05.729Z"
   },
   {
    "duration": 3,
    "start_time": "2022-09-21T17:05:05.916Z"
   },
   {
    "duration": 8,
    "start_time": "2022-09-21T17:05:05.920Z"
   },
   {
    "duration": 145,
    "start_time": "2022-09-21T17:05:05.929Z"
   },
   {
    "duration": 6,
    "start_time": "2022-09-21T17:05:06.076Z"
   },
   {
    "duration": 12,
    "start_time": "2022-09-21T17:05:06.083Z"
   },
   {
    "duration": 17,
    "start_time": "2022-09-21T17:05:06.096Z"
   },
   {
    "duration": 4,
    "start_time": "2022-09-21T17:05:06.115Z"
   },
   {
    "duration": 21,
    "start_time": "2022-09-21T17:05:06.120Z"
   },
   {
    "duration": 18,
    "start_time": "2022-09-21T17:05:06.142Z"
   },
   {
    "duration": 21,
    "start_time": "2022-09-21T17:05:06.162Z"
   },
   {
    "duration": 188,
    "start_time": "2022-09-21T17:05:06.184Z"
   },
   {
    "duration": 1097,
    "start_time": "2022-09-21T17:05:06.374Z"
   },
   {
    "duration": 1009,
    "start_time": "2022-09-21T17:05:07.473Z"
   },
   {
    "duration": 1006,
    "start_time": "2022-09-21T17:05:08.483Z"
   },
   {
    "duration": 18,
    "start_time": "2022-09-21T17:05:09.491Z"
   },
   {
    "duration": 19,
    "start_time": "2022-09-21T17:06:28.948Z"
   },
   {
    "duration": 3,
    "start_time": "2022-09-21T17:07:17.006Z"
   },
   {
    "duration": 329,
    "start_time": "2022-09-21T17:07:17.010Z"
   },
   {
    "duration": 25,
    "start_time": "2022-09-21T17:07:17.341Z"
   },
   {
    "duration": 156,
    "start_time": "2022-09-21T17:07:17.367Z"
   },
   {
    "duration": 104,
    "start_time": "2022-09-21T17:07:17.525Z"
   },
   {
    "duration": 23,
    "start_time": "2022-09-21T17:07:17.630Z"
   },
   {
    "duration": 159,
    "start_time": "2022-09-21T17:07:17.654Z"
   },
   {
    "duration": 94,
    "start_time": "2022-09-21T17:07:17.815Z"
   },
   {
    "duration": 24,
    "start_time": "2022-09-21T17:07:17.910Z"
   },
   {
    "duration": 160,
    "start_time": "2022-09-21T17:07:17.936Z"
   },
   {
    "duration": 92,
    "start_time": "2022-09-21T17:07:18.099Z"
   },
   {
    "duration": 104,
    "start_time": "2022-09-21T17:07:18.192Z"
   },
   {
    "duration": 27,
    "start_time": "2022-09-21T17:07:18.297Z"
   },
   {
    "duration": 15,
    "start_time": "2022-09-21T17:07:18.325Z"
   },
   {
    "duration": 16,
    "start_time": "2022-09-21T17:07:18.342Z"
   },
   {
    "duration": 11,
    "start_time": "2022-09-21T17:07:18.359Z"
   },
   {
    "duration": 3,
    "start_time": "2022-09-21T17:07:18.372Z"
   },
   {
    "duration": 41,
    "start_time": "2022-09-21T17:07:18.377Z"
   },
   {
    "duration": 4,
    "start_time": "2022-09-21T17:07:18.419Z"
   },
   {
    "duration": 17,
    "start_time": "2022-09-21T17:07:18.424Z"
   },
   {
    "duration": 3,
    "start_time": "2022-09-21T17:07:18.442Z"
   },
   {
    "duration": 66,
    "start_time": "2022-09-21T17:07:18.447Z"
   },
   {
    "duration": 109,
    "start_time": "2022-09-21T17:07:18.517Z"
   },
   {
    "duration": 191,
    "start_time": "2022-09-21T17:07:18.627Z"
   },
   {
    "duration": 97,
    "start_time": "2022-09-21T17:07:18.820Z"
   },
   {
    "duration": 95,
    "start_time": "2022-09-21T17:07:18.919Z"
   },
   {
    "duration": 5,
    "start_time": "2022-09-21T17:07:19.016Z"
   },
   {
    "duration": 140,
    "start_time": "2022-09-21T17:07:19.023Z"
   },
   {
    "duration": 6,
    "start_time": "2022-09-21T17:07:19.165Z"
   },
   {
    "duration": 8,
    "start_time": "2022-09-21T17:07:19.172Z"
   },
   {
    "duration": 5,
    "start_time": "2022-09-21T17:07:19.181Z"
   },
   {
    "duration": 23,
    "start_time": "2022-09-21T17:07:19.187Z"
   },
   {
    "duration": 24,
    "start_time": "2022-09-21T17:07:19.211Z"
   },
   {
    "duration": 18,
    "start_time": "2022-09-21T17:07:19.236Z"
   },
   {
    "duration": 19,
    "start_time": "2022-09-21T17:07:19.256Z"
   },
   {
    "duration": 170,
    "start_time": "2022-09-21T17:07:19.277Z"
   },
   {
    "duration": 1048,
    "start_time": "2022-09-21T17:07:19.448Z"
   },
   {
    "duration": 1031,
    "start_time": "2022-09-21T17:07:20.498Z"
   },
   {
    "duration": 1020,
    "start_time": "2022-09-21T17:07:21.530Z"
   },
   {
    "duration": 8,
    "start_time": "2022-09-21T17:07:22.551Z"
   },
   {
    "duration": 277,
    "start_time": "2022-09-21T17:13:00.505Z"
   },
   {
    "duration": 4,
    "start_time": "2022-09-21T17:21:37.349Z"
   },
   {
    "duration": 324,
    "start_time": "2022-09-21T17:21:37.354Z"
   },
   {
    "duration": 35,
    "start_time": "2022-09-21T17:21:37.680Z"
   },
   {
    "duration": 217,
    "start_time": "2022-09-21T17:21:37.717Z"
   },
   {
    "duration": 101,
    "start_time": "2022-09-21T17:21:37.935Z"
   },
   {
    "duration": 23,
    "start_time": "2022-09-21T17:21:38.038Z"
   },
   {
    "duration": 158,
    "start_time": "2022-09-21T17:21:38.062Z"
   },
   {
    "duration": 102,
    "start_time": "2022-09-21T17:21:38.222Z"
   },
   {
    "duration": 22,
    "start_time": "2022-09-21T17:21:38.325Z"
   },
   {
    "duration": 154,
    "start_time": "2022-09-21T17:21:38.350Z"
   },
   {
    "duration": 84,
    "start_time": "2022-09-21T17:21:38.508Z"
   },
   {
    "duration": 108,
    "start_time": "2022-09-21T17:21:38.594Z"
   },
   {
    "duration": 18,
    "start_time": "2022-09-21T17:21:38.710Z"
   },
   {
    "duration": 16,
    "start_time": "2022-09-21T17:21:38.730Z"
   },
   {
    "duration": 17,
    "start_time": "2022-09-21T17:21:38.747Z"
   },
   {
    "duration": 47,
    "start_time": "2022-09-21T17:21:38.766Z"
   },
   {
    "duration": 4,
    "start_time": "2022-09-21T17:21:38.815Z"
   },
   {
    "duration": 14,
    "start_time": "2022-09-21T17:21:38.820Z"
   },
   {
    "duration": 3,
    "start_time": "2022-09-21T17:21:38.836Z"
   },
   {
    "duration": 17,
    "start_time": "2022-09-21T17:21:38.840Z"
   },
   {
    "duration": 3,
    "start_time": "2022-09-21T17:21:38.859Z"
   },
   {
    "duration": 50,
    "start_time": "2022-09-21T17:21:38.864Z"
   },
   {
    "duration": 104,
    "start_time": "2022-09-21T17:21:38.915Z"
   },
   {
    "duration": 194,
    "start_time": "2022-09-21T17:21:39.021Z"
   },
   {
    "duration": 108,
    "start_time": "2022-09-21T17:21:39.216Z"
   },
   {
    "duration": 2,
    "start_time": "2022-09-21T17:21:39.326Z"
   },
   {
    "duration": 5,
    "start_time": "2022-09-21T17:21:39.330Z"
   },
   {
    "duration": 174,
    "start_time": "2022-09-21T17:21:39.338Z"
   },
   {
    "duration": 7,
    "start_time": "2022-09-21T17:21:39.514Z"
   },
   {
    "duration": 10,
    "start_time": "2022-09-21T17:21:39.522Z"
   },
   {
    "duration": 5,
    "start_time": "2022-09-21T17:21:39.534Z"
   },
   {
    "duration": 4,
    "start_time": "2022-09-21T17:21:39.540Z"
   },
   {
    "duration": 19,
    "start_time": "2022-09-21T17:21:39.545Z"
   },
   {
    "duration": 48,
    "start_time": "2022-09-21T17:21:39.566Z"
   },
   {
    "duration": 19,
    "start_time": "2022-09-21T17:21:39.615Z"
   },
   {
    "duration": 160,
    "start_time": "2022-09-21T17:21:39.635Z"
   },
   {
    "duration": 1056,
    "start_time": "2022-09-21T17:21:39.797Z"
   },
   {
    "duration": 1056,
    "start_time": "2022-09-21T17:21:40.855Z"
   },
   {
    "duration": 1028,
    "start_time": "2022-09-21T17:21:41.913Z"
   },
   {
    "duration": 9,
    "start_time": "2022-09-21T17:21:42.943Z"
   },
   {
    "duration": 59,
    "start_time": "2022-09-22T09:46:07.497Z"
   },
   {
    "duration": 1625,
    "start_time": "2022-09-22T09:46:13.279Z"
   },
   {
    "duration": 1692,
    "start_time": "2022-09-22T09:46:14.907Z"
   },
   {
    "duration": 32,
    "start_time": "2022-09-22T09:46:16.601Z"
   },
   {
    "duration": 180,
    "start_time": "2022-09-22T09:46:16.635Z"
   },
   {
    "duration": 140,
    "start_time": "2022-09-22T09:46:16.817Z"
   },
   {
    "duration": 38,
    "start_time": "2022-09-22T09:46:16.959Z"
   },
   {
    "duration": 183,
    "start_time": "2022-09-22T09:46:16.998Z"
   },
   {
    "duration": 124,
    "start_time": "2022-09-22T09:46:17.183Z"
   },
   {
    "duration": 27,
    "start_time": "2022-09-22T09:46:17.308Z"
   },
   {
    "duration": 198,
    "start_time": "2022-09-22T09:46:17.337Z"
   },
   {
    "duration": 135,
    "start_time": "2022-09-22T09:46:17.537Z"
   },
   {
    "duration": 130,
    "start_time": "2022-09-22T09:46:17.674Z"
   },
   {
    "duration": 19,
    "start_time": "2022-09-22T09:46:17.806Z"
   },
   {
    "duration": 20,
    "start_time": "2022-09-22T09:46:17.827Z"
   },
   {
    "duration": 44,
    "start_time": "2022-09-22T09:46:17.849Z"
   },
   {
    "duration": 16,
    "start_time": "2022-09-22T09:46:17.895Z"
   },
   {
    "duration": 4,
    "start_time": "2022-09-22T09:46:17.913Z"
   },
   {
    "duration": 16,
    "start_time": "2022-09-22T09:46:17.919Z"
   },
   {
    "duration": 4,
    "start_time": "2022-09-22T09:46:17.937Z"
   },
   {
    "duration": 52,
    "start_time": "2022-09-22T09:46:17.942Z"
   },
   {
    "duration": 4,
    "start_time": "2022-09-22T09:46:17.996Z"
   },
   {
    "duration": 190,
    "start_time": "2022-09-22T09:46:18.001Z"
   },
   {
    "duration": 97,
    "start_time": "2022-09-22T09:46:18.192Z"
   },
   {
    "duration": 106,
    "start_time": "2022-09-22T09:46:18.292Z"
   },
   {
    "duration": 188,
    "start_time": "2022-09-22T09:46:18.401Z"
   },
   {
    "duration": 3,
    "start_time": "2022-09-22T09:46:18.591Z"
   },
   {
    "duration": 13,
    "start_time": "2022-09-22T09:46:18.595Z"
   },
   {
    "duration": 160,
    "start_time": "2022-09-22T09:46:18.612Z"
   },
   {
    "duration": 7,
    "start_time": "2022-09-22T09:46:18.774Z"
   },
   {
    "duration": 10,
    "start_time": "2022-09-22T09:46:18.788Z"
   },
   {
    "duration": 8,
    "start_time": "2022-09-22T09:46:18.800Z"
   },
   {
    "duration": 5,
    "start_time": "2022-09-22T09:46:18.809Z"
   },
   {
    "duration": 22,
    "start_time": "2022-09-22T09:46:18.816Z"
   },
   {
    "duration": 19,
    "start_time": "2022-09-22T09:46:18.840Z"
   },
   {
    "duration": 19,
    "start_time": "2022-09-22T09:46:18.890Z"
   },
   {
    "duration": 190,
    "start_time": "2022-09-22T09:46:18.910Z"
   },
   {
    "duration": 1510,
    "start_time": "2022-09-22T09:46:19.101Z"
   },
   {
    "duration": 0,
    "start_time": "2022-09-22T09:46:20.612Z"
   },
   {
    "duration": 0,
    "start_time": "2022-09-22T09:46:20.613Z"
   },
   {
    "duration": 0,
    "start_time": "2022-09-22T09:46:20.615Z"
   },
   {
    "duration": 1422,
    "start_time": "2022-09-22T09:47:07.221Z"
   },
   {
    "duration": 1213,
    "start_time": "2022-09-22T09:48:10.386Z"
   },
   {
    "duration": 1305,
    "start_time": "2022-09-22T09:48:22.633Z"
   },
   {
    "duration": 1141,
    "start_time": "2022-09-22T09:51:34.267Z"
   },
   {
    "duration": 18,
    "start_time": "2022-09-22T09:53:00.147Z"
   },
   {
    "duration": 1365,
    "start_time": "2022-09-22T09:53:21.752Z"
   },
   {
    "duration": 1333,
    "start_time": "2022-09-22T09:53:42.934Z"
   },
   {
    "duration": 1338,
    "start_time": "2022-09-22T09:57:12.415Z"
   },
   {
    "duration": 1389,
    "start_time": "2022-09-22T09:57:20.771Z"
   },
   {
    "duration": 1522,
    "start_time": "2022-09-22T10:00:34.517Z"
   },
   {
    "duration": 1620,
    "start_time": "2022-09-22T10:01:26.769Z"
   },
   {
    "duration": 1601,
    "start_time": "2022-09-22T10:01:43.102Z"
   },
   {
    "duration": 1369,
    "start_time": "2022-09-22T10:04:47.549Z"
   },
   {
    "duration": 1312,
    "start_time": "2022-09-22T11:43:48.192Z"
   },
   {
    "duration": 169,
    "start_time": "2022-09-22T11:45:08.221Z"
   },
   {
    "duration": 1380,
    "start_time": "2022-09-22T11:45:31.400Z"
   },
   {
    "duration": 1337,
    "start_time": "2022-09-22T11:53:46.161Z"
   },
   {
    "duration": 1283,
    "start_time": "2022-09-22T11:56:03.110Z"
   },
   {
    "duration": 1340,
    "start_time": "2022-09-22T11:58:00.487Z"
   },
   {
    "duration": 1277,
    "start_time": "2022-09-22T11:58:32.901Z"
   },
   {
    "duration": 1342,
    "start_time": "2022-09-22T11:59:07.717Z"
   },
   {
    "duration": 1276,
    "start_time": "2022-09-22T11:59:28.698Z"
   },
   {
    "duration": 1278,
    "start_time": "2022-09-22T12:01:54.556Z"
   },
   {
    "duration": 1314,
    "start_time": "2022-09-22T12:03:21.031Z"
   },
   {
    "duration": 1341,
    "start_time": "2022-09-22T12:03:56.925Z"
   },
   {
    "duration": 4,
    "start_time": "2022-09-22T12:04:14.198Z"
   },
   {
    "duration": 430,
    "start_time": "2022-09-22T12:04:14.205Z"
   },
   {
    "duration": 30,
    "start_time": "2022-09-22T12:04:14.637Z"
   },
   {
    "duration": 285,
    "start_time": "2022-09-22T12:04:14.669Z"
   },
   {
    "duration": 157,
    "start_time": "2022-09-22T12:04:14.956Z"
   },
   {
    "duration": 31,
    "start_time": "2022-09-22T12:04:15.115Z"
   },
   {
    "duration": 201,
    "start_time": "2022-09-22T12:04:15.147Z"
   },
   {
    "duration": 146,
    "start_time": "2022-09-22T12:04:15.350Z"
   },
   {
    "duration": 28,
    "start_time": "2022-09-22T12:04:15.498Z"
   },
   {
    "duration": 191,
    "start_time": "2022-09-22T12:04:15.528Z"
   },
   {
    "duration": 133,
    "start_time": "2022-09-22T12:04:15.721Z"
   },
   {
    "duration": 127,
    "start_time": "2022-09-22T12:04:15.856Z"
   },
   {
    "duration": 20,
    "start_time": "2022-09-22T12:04:15.990Z"
   },
   {
    "duration": 22,
    "start_time": "2022-09-22T12:04:16.012Z"
   },
   {
    "duration": 18,
    "start_time": "2022-09-22T12:04:16.035Z"
   },
   {
    "duration": 41,
    "start_time": "2022-09-22T12:04:16.055Z"
   },
   {
    "duration": 5,
    "start_time": "2022-09-22T12:04:16.097Z"
   },
   {
    "duration": 14,
    "start_time": "2022-09-22T12:04:16.103Z"
   },
   {
    "duration": 4,
    "start_time": "2022-09-22T12:04:16.118Z"
   },
   {
    "duration": 16,
    "start_time": "2022-09-22T12:04:16.124Z"
   },
   {
    "duration": 4,
    "start_time": "2022-09-22T12:04:16.142Z"
   },
   {
    "duration": 54,
    "start_time": "2022-09-22T12:04:16.147Z"
   },
   {
    "duration": 198,
    "start_time": "2022-09-22T12:04:16.203Z"
   },
   {
    "duration": 199,
    "start_time": "2022-09-22T12:04:16.403Z"
   },
   {
    "duration": 193,
    "start_time": "2022-09-22T12:04:16.604Z"
   },
   {
    "duration": 4,
    "start_time": "2022-09-22T12:04:16.798Z"
   },
   {
    "duration": 7,
    "start_time": "2022-09-22T12:04:16.803Z"
   },
   {
    "duration": 168,
    "start_time": "2022-09-22T12:04:16.811Z"
   },
   {
    "duration": 13,
    "start_time": "2022-09-22T12:04:16.981Z"
   },
   {
    "duration": 11,
    "start_time": "2022-09-22T12:04:16.996Z"
   },
   {
    "duration": 8,
    "start_time": "2022-09-22T12:04:17.009Z"
   },
   {
    "duration": 5,
    "start_time": "2022-09-22T12:04:17.018Z"
   },
   {
    "duration": 22,
    "start_time": "2022-09-22T12:04:17.025Z"
   },
   {
    "duration": 53,
    "start_time": "2022-09-22T12:04:17.049Z"
   },
   {
    "duration": 21,
    "start_time": "2022-09-22T12:04:17.103Z"
   },
   {
    "duration": 181,
    "start_time": "2022-09-22T12:04:17.125Z"
   },
   {
    "duration": 1364,
    "start_time": "2022-09-22T12:04:17.310Z"
   },
   {
    "duration": 0,
    "start_time": "2022-09-22T12:04:18.676Z"
   },
   {
    "duration": 0,
    "start_time": "2022-09-22T12:04:18.677Z"
   },
   {
    "duration": 0,
    "start_time": "2022-09-22T12:04:18.678Z"
   },
   {
    "duration": 1380,
    "start_time": "2022-09-22T12:05:19.191Z"
   },
   {
    "duration": 1345,
    "start_time": "2022-09-22T12:06:18.820Z"
   },
   {
    "duration": 18,
    "start_time": "2022-09-22T12:08:04.185Z"
   },
   {
    "duration": 18,
    "start_time": "2022-09-22T12:08:22.742Z"
   },
   {
    "duration": 20,
    "start_time": "2022-09-22T12:08:29.618Z"
   },
   {
    "duration": 1299,
    "start_time": "2022-09-22T12:09:29.590Z"
   },
   {
    "duration": 1291,
    "start_time": "2022-09-22T12:10:33.752Z"
   },
   {
    "duration": 1320,
    "start_time": "2022-09-22T12:10:42.194Z"
   },
   {
    "duration": 1373,
    "start_time": "2022-09-22T12:10:49.880Z"
   },
   {
    "duration": 9,
    "start_time": "2022-09-22T12:10:56.380Z"
   },
   {
    "duration": 26,
    "start_time": "2022-09-22T12:13:09.247Z"
   },
   {
    "duration": 10,
    "start_time": "2022-09-22T12:13:32.607Z"
   },
   {
    "duration": 4,
    "start_time": "2022-09-22T12:13:42.243Z"
   },
   {
    "duration": 1390,
    "start_time": "2022-09-22T12:50:30.476Z"
   },
   {
    "duration": 1358,
    "start_time": "2022-09-22T12:55:39.282Z"
   },
   {
    "duration": 1387,
    "start_time": "2022-09-22T12:56:49.935Z"
   },
   {
    "duration": 1937,
    "start_time": "2022-09-22T12:57:39.043Z"
   },
   {
    "duration": 82,
    "start_time": "2022-09-22T12:58:38.077Z"
   },
   {
    "duration": 81,
    "start_time": "2022-09-22T12:58:52.777Z"
   },
   {
    "duration": 1338,
    "start_time": "2022-09-22T13:00:27.335Z"
   },
   {
    "duration": 1271,
    "start_time": "2022-09-22T13:02:33.107Z"
   },
   {
    "duration": 1443,
    "start_time": "2022-09-22T13:03:07.948Z"
   },
   {
    "duration": 1740,
    "start_time": "2022-09-22T13:07:56.480Z"
   },
   {
    "duration": 1849,
    "start_time": "2022-09-22T13:14:58.249Z"
   },
   {
    "duration": 1403,
    "start_time": "2022-09-22T13:15:09.313Z"
   },
   {
    "duration": 1466,
    "start_time": "2022-09-22T13:15:52.376Z"
   },
   {
    "duration": 26,
    "start_time": "2022-09-22T13:35:40.979Z"
   },
   {
    "duration": 1421,
    "start_time": "2022-09-22T13:36:44.751Z"
   },
   {
    "duration": 1425,
    "start_time": "2022-09-22T13:36:54.360Z"
   },
   {
    "duration": 1355,
    "start_time": "2022-09-22T13:41:38.709Z"
   },
   {
    "duration": 1685,
    "start_time": "2022-09-22T13:44:22.711Z"
   },
   {
    "duration": 1780,
    "start_time": "2022-09-22T13:45:04.563Z"
   },
   {
    "duration": 17,
    "start_time": "2022-09-22T13:45:54.052Z"
   },
   {
    "duration": 1707,
    "start_time": "2022-09-22T13:46:35.763Z"
   },
   {
    "duration": 1793,
    "start_time": "2022-09-22T13:47:19.066Z"
   },
   {
    "duration": 20,
    "start_time": "2022-09-22T13:48:13.887Z"
   },
   {
    "duration": 1683,
    "start_time": "2022-09-22T13:48:26.167Z"
   },
   {
    "duration": 1295,
    "start_time": "2022-09-22T13:48:54.067Z"
   },
   {
    "duration": 1371,
    "start_time": "2022-09-22T13:49:08.763Z"
   },
   {
    "duration": 1532,
    "start_time": "2022-09-22T13:49:32.138Z"
   },
   {
    "duration": 1335,
    "start_time": "2022-09-22T13:49:59.193Z"
   },
   {
    "duration": 1637,
    "start_time": "2022-09-22T13:59:55.122Z"
   },
   {
    "duration": 106,
    "start_time": "2022-09-22T14:00:29.245Z"
   },
   {
    "duration": 1729,
    "start_time": "2022-09-22T14:00:54.880Z"
   },
   {
    "duration": 15,
    "start_time": "2022-09-22T14:01:27.887Z"
   },
   {
    "duration": 1846,
    "start_time": "2022-09-22T14:02:01.298Z"
   },
   {
    "duration": 1272,
    "start_time": "2022-09-22T14:22:57.813Z"
   },
   {
    "duration": 1784,
    "start_time": "2022-09-22T14:23:31.519Z"
   },
   {
    "duration": 1254,
    "start_time": "2022-09-22T14:23:55.535Z"
   },
   {
    "duration": 1785,
    "start_time": "2022-09-22T14:31:27.132Z"
   },
   {
    "duration": 20,
    "start_time": "2022-09-22T14:31:54.416Z"
   },
   {
    "duration": 1703,
    "start_time": "2022-09-22T14:32:15.937Z"
   },
   {
    "duration": 1629,
    "start_time": "2022-09-23T15:42:15.271Z"
   },
   {
    "duration": 1610,
    "start_time": "2022-09-23T15:42:16.902Z"
   },
   {
    "duration": 34,
    "start_time": "2022-09-23T15:42:18.514Z"
   },
   {
    "duration": 178,
    "start_time": "2022-09-23T15:42:18.550Z"
   },
   {
    "duration": 124,
    "start_time": "2022-09-23T15:42:18.730Z"
   },
   {
    "duration": 43,
    "start_time": "2022-09-23T15:42:18.856Z"
   },
   {
    "duration": 176,
    "start_time": "2022-09-23T15:42:18.901Z"
   },
   {
    "duration": 117,
    "start_time": "2022-09-23T15:42:19.079Z"
   },
   {
    "duration": 26,
    "start_time": "2022-09-23T15:42:19.198Z"
   },
   {
    "duration": 185,
    "start_time": "2022-09-23T15:42:19.228Z"
   },
   {
    "duration": 117,
    "start_time": "2022-09-23T15:42:19.415Z"
   },
   {
    "duration": 123,
    "start_time": "2022-09-23T15:42:19.534Z"
   },
   {
    "duration": 20,
    "start_time": "2022-09-23T15:42:19.659Z"
   },
   {
    "duration": 22,
    "start_time": "2022-09-23T15:42:19.694Z"
   },
   {
    "duration": 19,
    "start_time": "2022-09-23T15:42:19.718Z"
   },
   {
    "duration": 14,
    "start_time": "2022-09-23T15:42:19.739Z"
   },
   {
    "duration": 4,
    "start_time": "2022-09-23T15:42:19.755Z"
   },
   {
    "duration": 20,
    "start_time": "2022-09-23T15:42:19.795Z"
   },
   {
    "duration": 4,
    "start_time": "2022-09-23T15:42:19.817Z"
   },
   {
    "duration": 33,
    "start_time": "2022-09-23T15:42:19.823Z"
   },
   {
    "duration": 5,
    "start_time": "2022-09-23T15:42:19.857Z"
   },
   {
    "duration": 140,
    "start_time": "2022-09-23T15:42:19.864Z"
   },
   {
    "duration": 101,
    "start_time": "2022-09-23T15:42:20.096Z"
   },
   {
    "duration": 103,
    "start_time": "2022-09-23T15:42:20.202Z"
   },
   {
    "duration": 202,
    "start_time": "2022-09-23T15:42:20.307Z"
   },
   {
    "duration": 3,
    "start_time": "2022-09-23T15:42:20.510Z"
   },
   {
    "duration": 7,
    "start_time": "2022-09-23T15:42:20.514Z"
   },
   {
    "duration": 158,
    "start_time": "2022-09-23T15:42:20.524Z"
   },
   {
    "duration": 12,
    "start_time": "2022-09-23T15:42:20.685Z"
   },
   {
    "duration": 9,
    "start_time": "2022-09-23T15:42:20.699Z"
   },
   {
    "duration": 7,
    "start_time": "2022-09-23T15:42:20.710Z"
   },
   {
    "duration": 5,
    "start_time": "2022-09-23T15:42:20.719Z"
   },
   {
    "duration": 22,
    "start_time": "2022-09-23T15:42:20.725Z"
   },
   {
    "duration": 47,
    "start_time": "2022-09-23T15:42:20.748Z"
   },
   {
    "duration": 20,
    "start_time": "2022-09-23T15:42:20.797Z"
   },
   {
    "duration": 195,
    "start_time": "2022-09-23T15:42:20.818Z"
   },
   {
    "duration": 1804,
    "start_time": "2022-09-23T15:42:21.015Z"
   },
   {
    "duration": 86,
    "start_time": "2022-09-23T15:42:22.821Z"
   },
   {
    "duration": 0,
    "start_time": "2022-09-23T15:42:22.909Z"
   },
   {
    "duration": 0,
    "start_time": "2022-09-23T15:42:22.910Z"
   },
   {
    "duration": 0,
    "start_time": "2022-09-23T15:42:22.911Z"
   },
   {
    "duration": 3,
    "start_time": "2022-09-23T15:43:46.338Z"
   },
   {
    "duration": 397,
    "start_time": "2022-09-23T15:43:46.343Z"
   },
   {
    "duration": 35,
    "start_time": "2022-09-23T15:43:46.743Z"
   },
   {
    "duration": 222,
    "start_time": "2022-09-23T15:43:46.796Z"
   },
   {
    "duration": 108,
    "start_time": "2022-09-23T15:43:55.613Z"
   },
   {
    "duration": 26,
    "start_time": "2022-09-23T15:43:55.723Z"
   },
   {
    "duration": 191,
    "start_time": "2022-09-23T15:43:55.750Z"
   },
   {
    "duration": 105,
    "start_time": "2022-09-23T15:44:06.382Z"
   },
   {
    "duration": 26,
    "start_time": "2022-09-23T15:44:06.489Z"
   },
   {
    "duration": 218,
    "start_time": "2022-09-23T15:44:06.517Z"
   },
   {
    "duration": 146,
    "start_time": "2022-09-23T15:44:06.737Z"
   },
   {
    "duration": 127,
    "start_time": "2022-09-23T15:44:06.885Z"
   },
   {
    "duration": 19,
    "start_time": "2022-09-23T15:44:07.014Z"
   },
   {
    "duration": 20,
    "start_time": "2022-09-23T15:44:07.035Z"
   },
   {
    "duration": 49,
    "start_time": "2022-09-23T15:44:07.056Z"
   },
   {
    "duration": 15,
    "start_time": "2022-09-23T15:44:07.106Z"
   },
   {
    "duration": 4,
    "start_time": "2022-09-23T15:44:07.123Z"
   },
   {
    "duration": 16,
    "start_time": "2022-09-23T15:44:07.129Z"
   },
   {
    "duration": 5,
    "start_time": "2022-09-23T15:44:07.146Z"
   },
   {
    "duration": 50,
    "start_time": "2022-09-23T15:44:07.152Z"
   },
   {
    "duration": 5,
    "start_time": "2022-09-23T15:44:07.206Z"
   },
   {
    "duration": 82,
    "start_time": "2022-09-23T15:44:07.213Z"
   },
   {
    "duration": 109,
    "start_time": "2022-09-23T15:44:07.297Z"
   },
   {
    "duration": 19,
    "start_time": "2022-09-23T15:44:25.867Z"
   },
   {
    "duration": 109,
    "start_time": "2022-09-23T15:44:25.887Z"
   },
   {
    "duration": 97,
    "start_time": "2022-09-23T15:44:25.999Z"
   },
   {
    "duration": 10,
    "start_time": "2022-09-23T15:44:26.098Z"
   },
   {
    "duration": 143,
    "start_time": "2022-09-23T15:44:31.730Z"
   },
   {
    "duration": 7,
    "start_time": "2022-09-23T15:44:31.876Z"
   },
   {
    "duration": 21,
    "start_time": "2022-09-23T15:44:31.885Z"
   },
   {
    "duration": 12,
    "start_time": "2022-09-23T15:44:31.908Z"
   },
   {
    "duration": 9,
    "start_time": "2022-09-23T15:44:31.922Z"
   },
   {
    "duration": 29,
    "start_time": "2022-09-23T15:44:31.933Z"
   },
   {
    "duration": 19,
    "start_time": "2022-09-23T15:44:31.964Z"
   },
   {
    "duration": 19,
    "start_time": "2022-09-23T15:44:31.994Z"
   },
   {
    "duration": 172,
    "start_time": "2022-09-23T15:44:32.015Z"
   },
   {
    "duration": 1731,
    "start_time": "2022-09-23T15:44:32.189Z"
   },
   {
    "duration": 1321,
    "start_time": "2022-09-23T15:44:33.922Z"
   },
   {
    "duration": 1304,
    "start_time": "2022-09-23T15:44:35.245Z"
   },
   {
    "duration": 12,
    "start_time": "2022-09-23T15:44:36.552Z"
   },
   {
    "duration": 1778,
    "start_time": "2022-09-23T15:53:17.790Z"
   },
   {
    "duration": 1802,
    "start_time": "2022-09-23T15:56:50.169Z"
   },
   {
    "duration": 1822,
    "start_time": "2022-09-23T16:25:39.255Z"
   },
   {
    "duration": 1914,
    "start_time": "2022-09-23T16:27:47.604Z"
   },
   {
    "duration": 2024,
    "start_time": "2022-09-23T16:29:16.799Z"
   },
   {
    "duration": 1887,
    "start_time": "2022-09-23T16:41:13.029Z"
   },
   {
    "duration": 2168,
    "start_time": "2022-09-23T16:41:40.318Z"
   },
   {
    "duration": 13,
    "start_time": "2022-09-23T16:41:51.926Z"
   }
  ],
  "kernelspec": {
   "display_name": "Python 3 (ipykernel)",
   "language": "python",
   "name": "python3"
  },
  "language_info": {
   "codemirror_mode": {
    "name": "ipython",
    "version": 3
   },
   "file_extension": ".py",
   "mimetype": "text/x-python",
   "name": "python",
   "nbconvert_exporter": "python",
   "pygments_lexer": "ipython3",
   "version": "3.9.13"
  },
  "toc": {
   "base_numbering": 1,
   "nav_menu": {},
   "number_sections": true,
   "sideBar": true,
   "skip_h1_title": true,
   "title_cell": "Table of Contents",
   "title_sidebar": "Contents",
   "toc_cell": false,
   "toc_position": {},
   "toc_section_display": true,
   "toc_window_display": false
  }
 },
 "nbformat": 4,
 "nbformat_minor": 2
}
